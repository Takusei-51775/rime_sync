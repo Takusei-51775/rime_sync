{
 "cells": [
  {
   "cell_type": "markdown",
   "metadata": {},
   "source": [
    "## Globals"
   ]
  },
  {
   "cell_type": "code",
   "execution_count": 1,
   "metadata": {},
   "outputs": [],
   "source": [
    "%load_ext autoreload\n",
    "%autoreload 2\n",
    "\n",
    "import opencc\n",
    "\n",
    "from pypinyin import pinyin, lazy_pinyin, Style\n",
    "import os\n",
    "\n",
    "import tqdm\n",
    "from pyscripts.words import *\n",
    "from copy import deepcopy\n",
    "\n",
    "cc = opencc.OpenCC(\"s2t\")"
   ]
  },
  {
   "cell_type": "code",
   "execution_count": 2,
   "metadata": {},
   "outputs": [
    {
     "name": "stderr",
     "output_type": "stream",
     "text": [
      "c:\\Users\\Takusei\\AppData\\Roaming\\Rime\\.conda\\Lib\\site-packages\\tqdm\\auto.py:21: TqdmWarning: IProgress not found. Please update jupyter and ipywidgets. See https://ipywidgets.readthedocs.io/en/stable/user_install.html\n",
      "  from .autonotebook import tqdm as notebook_tqdm\n",
      "                                   \r"
     ]
    }
   ],
   "source": [
    "import hanlp\n",
    "\n",
    "HanLP_MTL = hanlp.load(hanlp.pretrained.mtl.CLOSE_TOK_POS_NER_SRL_DEP_SDP_CON_ELECTRA_SMALL_ZH)\n",
    "# HanLP_NER = hanlp.load(hanlp.pretrained.ner.MSRA_NER_ELECTRA_SMALL_ZH)"
   ]
  },
  {
   "cell_type": "code",
   "execution_count": 3,
   "metadata": {},
   "outputs": [
    {
     "data": {
      "text/html": [
       "<div style=\"display: table; padding-bottom: 1rem;\"><pre style=\"display: table-cell; font-family: SFMono-Regular,Menlo,Monaco,Consolas,Liberation Mono,Courier New,monospace; white-space: nowrap; line-height: 128%; padding: 0;\">Dep&nbsp;Tree&nbsp;&nbsp;&nbsp;&nbsp;&nbsp;&nbsp;&nbsp;&nbsp;<br>───────────────&nbsp;<br>&nbsp;&nbsp;&nbsp;&nbsp;┌─────────►&nbsp;<br>&nbsp;&nbsp;&nbsp;&nbsp;│┌────────►&nbsp;<br>&nbsp;&nbsp;&nbsp;&nbsp;││┌─►┌─────&nbsp;<br>&nbsp;&nbsp;&nbsp;&nbsp;│││&nbsp;&nbsp;│&nbsp;&nbsp;┌─►&nbsp;<br>&nbsp;&nbsp;&nbsp;&nbsp;│││&nbsp;&nbsp;└─►└──&nbsp;<br>┌┬──┼┼┴────────&nbsp;<br>││&nbsp;&nbsp;││&nbsp;&nbsp;&nbsp;&nbsp;&nbsp;┌──►&nbsp;<br>││&nbsp;&nbsp;││&nbsp;&nbsp;&nbsp;&nbsp;&nbsp;│┌─►&nbsp;<br>││&nbsp;&nbsp;││&nbsp;&nbsp;┌─►└┼──&nbsp;<br>││&nbsp;&nbsp;││&nbsp;&nbsp;│&nbsp;&nbsp;&nbsp;└─►&nbsp;<br>││&nbsp;&nbsp;││&nbsp;&nbsp;│&nbsp;&nbsp;&nbsp;┌─►&nbsp;<br>││&nbsp;&nbsp;││&nbsp;&nbsp;│┌─►└──&nbsp;<br>││&nbsp;&nbsp;││&nbsp;&nbsp;││&nbsp;&nbsp;┌─►&nbsp;<br>││&nbsp;&nbsp;│└─►└┴──┴──&nbsp;<br>││&nbsp;&nbsp;└─────────►&nbsp;<br>││&nbsp;&nbsp;&nbsp;&nbsp;&nbsp;&nbsp;&nbsp;&nbsp;&nbsp;&nbsp;┌─►&nbsp;<br>│└─►┌────┬──┴──&nbsp;<br>│&nbsp;&nbsp;&nbsp;│&nbsp;&nbsp;&nbsp;&nbsp;│&nbsp;&nbsp;┌─►&nbsp;<br>│&nbsp;&nbsp;&nbsp;│&nbsp;&nbsp;&nbsp;&nbsp;└─►└──&nbsp;<br>│&nbsp;&nbsp;&nbsp;└─►┌───────&nbsp;<br>│&nbsp;&nbsp;&nbsp;&nbsp;&nbsp;&nbsp;│&nbsp;&nbsp;┌───►&nbsp;<br>│&nbsp;&nbsp;&nbsp;&nbsp;&nbsp;&nbsp;│&nbsp;&nbsp;│┌──►&nbsp;<br>│&nbsp;&nbsp;&nbsp;&nbsp;&nbsp;&nbsp;│&nbsp;&nbsp;││┌─►&nbsp;<br>│&nbsp;&nbsp;&nbsp;&nbsp;&nbsp;&nbsp;└─►└┴┴──&nbsp;<br>└─────────────►&nbsp;</pre><pre style=\"display: table-cell; font-family: SFMono-Regular,Menlo,Monaco,Consolas,Liberation Mono,Courier New,monospace; white-space: nowrap; line-height: 128%; padding: 0;\">Token&nbsp;&nbsp;&nbsp;&nbsp;&nbsp;<br>─────────&nbsp;<br>2021年&nbsp;&nbsp;&nbsp;&nbsp;&nbsp;<br>HanLPv2.1&nbsp;<br>为&nbsp;&nbsp;&nbsp;&nbsp;&nbsp;&nbsp;&nbsp;&nbsp;&nbsp;<br>生产&nbsp;&nbsp;&nbsp;&nbsp;&nbsp;&nbsp;&nbsp;&nbsp;<br>环境&nbsp;&nbsp;&nbsp;&nbsp;&nbsp;&nbsp;&nbsp;&nbsp;<br>带来&nbsp;&nbsp;&nbsp;&nbsp;&nbsp;&nbsp;&nbsp;&nbsp;<br>次世代&nbsp;&nbsp;&nbsp;&nbsp;&nbsp;&nbsp;&nbsp;<br>最&nbsp;&nbsp;&nbsp;&nbsp;&nbsp;&nbsp;&nbsp;&nbsp;&nbsp;<br>先进&nbsp;&nbsp;&nbsp;&nbsp;&nbsp;&nbsp;&nbsp;&nbsp;<br>的&nbsp;&nbsp;&nbsp;&nbsp;&nbsp;&nbsp;&nbsp;&nbsp;&nbsp;<br>多&nbsp;&nbsp;&nbsp;&nbsp;&nbsp;&nbsp;&nbsp;&nbsp;&nbsp;<br>语种&nbsp;&nbsp;&nbsp;&nbsp;&nbsp;&nbsp;&nbsp;&nbsp;<br>NLP&nbsp;&nbsp;&nbsp;&nbsp;&nbsp;&nbsp;&nbsp;<br>技术&nbsp;&nbsp;&nbsp;&nbsp;&nbsp;&nbsp;&nbsp;&nbsp;<br>。&nbsp;&nbsp;&nbsp;&nbsp;&nbsp;&nbsp;&nbsp;&nbsp;&nbsp;<br>晓美焰&nbsp;&nbsp;&nbsp;&nbsp;&nbsp;&nbsp;&nbsp;<br>来到&nbsp;&nbsp;&nbsp;&nbsp;&nbsp;&nbsp;&nbsp;&nbsp;<br>北京&nbsp;&nbsp;&nbsp;&nbsp;&nbsp;&nbsp;&nbsp;&nbsp;<br>立方庭&nbsp;&nbsp;&nbsp;&nbsp;&nbsp;&nbsp;&nbsp;<br>参观&nbsp;&nbsp;&nbsp;&nbsp;&nbsp;&nbsp;&nbsp;&nbsp;<br>自然&nbsp;&nbsp;&nbsp;&nbsp;&nbsp;&nbsp;&nbsp;&nbsp;<br>语义&nbsp;&nbsp;&nbsp;&nbsp;&nbsp;&nbsp;&nbsp;&nbsp;<br>科技&nbsp;&nbsp;&nbsp;&nbsp;&nbsp;&nbsp;&nbsp;&nbsp;<br>公司&nbsp;&nbsp;&nbsp;&nbsp;&nbsp;&nbsp;&nbsp;&nbsp;<br>。&nbsp;&nbsp;&nbsp;&nbsp;&nbsp;&nbsp;&nbsp;&nbsp;&nbsp;</pre><pre style=\"display: table-cell; font-family: SFMono-Regular,Menlo,Monaco,Consolas,Liberation Mono,Courier New,monospace; white-space: nowrap; line-height: 128%; padding: 0;\">Relati&nbsp;<br>──────&nbsp;<br>tmod&nbsp;&nbsp;&nbsp;<br>nsubj&nbsp;&nbsp;<br>prep&nbsp;&nbsp;&nbsp;<br>nn&nbsp;&nbsp;&nbsp;&nbsp;&nbsp;<br>pobj&nbsp;&nbsp;&nbsp;<br>root&nbsp;&nbsp;&nbsp;<br>dep&nbsp;&nbsp;&nbsp;&nbsp;<br>advmod&nbsp;<br>rcmod&nbsp;&nbsp;<br>cpm&nbsp;&nbsp;&nbsp;&nbsp;<br>nummod&nbsp;<br>nn&nbsp;&nbsp;&nbsp;&nbsp;&nbsp;<br>nn&nbsp;&nbsp;&nbsp;&nbsp;&nbsp;<br>dobj&nbsp;&nbsp;&nbsp;<br>punct&nbsp;&nbsp;<br>nsubj&nbsp;&nbsp;<br>conj&nbsp;&nbsp;&nbsp;<br>nn&nbsp;&nbsp;&nbsp;&nbsp;&nbsp;<br>dobj&nbsp;&nbsp;&nbsp;<br>conj&nbsp;&nbsp;&nbsp;<br>nn&nbsp;&nbsp;&nbsp;&nbsp;&nbsp;<br>nn&nbsp;&nbsp;&nbsp;&nbsp;&nbsp;<br>nn&nbsp;&nbsp;&nbsp;&nbsp;&nbsp;<br>dobj&nbsp;&nbsp;&nbsp;<br>punct&nbsp;&nbsp;</pre><pre style=\"display: table-cell; font-family: SFMono-Regular,Menlo,Monaco,Consolas,Liberation Mono,Courier New,monospace; white-space: nowrap; line-height: 128%; padding: 0;\">PoS&nbsp;<br>───&nbsp;<br>NT&nbsp;&nbsp;<br>NN&nbsp;&nbsp;<br>P&nbsp;&nbsp;&nbsp;<br>NN&nbsp;&nbsp;<br>NN&nbsp;&nbsp;<br>VV&nbsp;&nbsp;<br>NN&nbsp;&nbsp;<br>AD&nbsp;&nbsp;<br>VA&nbsp;&nbsp;<br>DEC&nbsp;<br>CD&nbsp;&nbsp;<br>NN&nbsp;&nbsp;<br>NR&nbsp;&nbsp;<br>NN&nbsp;&nbsp;<br>PU&nbsp;&nbsp;<br>NR&nbsp;&nbsp;<br>VV&nbsp;&nbsp;<br>NR&nbsp;&nbsp;<br>NR&nbsp;&nbsp;<br>VV&nbsp;&nbsp;<br>NN&nbsp;&nbsp;<br>NN&nbsp;&nbsp;<br>NN&nbsp;&nbsp;<br>NN&nbsp;&nbsp;<br>PU&nbsp;&nbsp;</pre><pre style=\"display: table-cell; font-family: SFMono-Regular,Menlo,Monaco,Consolas,Liberation Mono,Courier New,monospace; white-space: nowrap; line-height: 128%; padding: 0;\">Token&nbsp;&nbsp;&nbsp;&nbsp;&nbsp;<br>─────────&nbsp;<br>2021年&nbsp;&nbsp;&nbsp;&nbsp;&nbsp;<br>HanLPv2.1&nbsp;<br>为&nbsp;&nbsp;&nbsp;&nbsp;&nbsp;&nbsp;&nbsp;&nbsp;&nbsp;<br>生产&nbsp;&nbsp;&nbsp;&nbsp;&nbsp;&nbsp;&nbsp;&nbsp;<br>环境&nbsp;&nbsp;&nbsp;&nbsp;&nbsp;&nbsp;&nbsp;&nbsp;<br>带来&nbsp;&nbsp;&nbsp;&nbsp;&nbsp;&nbsp;&nbsp;&nbsp;<br>次世代&nbsp;&nbsp;&nbsp;&nbsp;&nbsp;&nbsp;&nbsp;<br>最&nbsp;&nbsp;&nbsp;&nbsp;&nbsp;&nbsp;&nbsp;&nbsp;&nbsp;<br>先进&nbsp;&nbsp;&nbsp;&nbsp;&nbsp;&nbsp;&nbsp;&nbsp;<br>的&nbsp;&nbsp;&nbsp;&nbsp;&nbsp;&nbsp;&nbsp;&nbsp;&nbsp;<br>多&nbsp;&nbsp;&nbsp;&nbsp;&nbsp;&nbsp;&nbsp;&nbsp;&nbsp;<br>语种&nbsp;&nbsp;&nbsp;&nbsp;&nbsp;&nbsp;&nbsp;&nbsp;<br>NLP&nbsp;&nbsp;&nbsp;&nbsp;&nbsp;&nbsp;&nbsp;<br>技术&nbsp;&nbsp;&nbsp;&nbsp;&nbsp;&nbsp;&nbsp;&nbsp;<br>。&nbsp;&nbsp;&nbsp;&nbsp;&nbsp;&nbsp;&nbsp;&nbsp;&nbsp;<br>晓美焰&nbsp;&nbsp;&nbsp;&nbsp;&nbsp;&nbsp;&nbsp;<br>来到&nbsp;&nbsp;&nbsp;&nbsp;&nbsp;&nbsp;&nbsp;&nbsp;<br>北京&nbsp;&nbsp;&nbsp;&nbsp;&nbsp;&nbsp;&nbsp;&nbsp;<br>立方庭&nbsp;&nbsp;&nbsp;&nbsp;&nbsp;&nbsp;&nbsp;<br>参观&nbsp;&nbsp;&nbsp;&nbsp;&nbsp;&nbsp;&nbsp;&nbsp;<br>自然&nbsp;&nbsp;&nbsp;&nbsp;&nbsp;&nbsp;&nbsp;&nbsp;<br>语义&nbsp;&nbsp;&nbsp;&nbsp;&nbsp;&nbsp;&nbsp;&nbsp;<br>科技&nbsp;&nbsp;&nbsp;&nbsp;&nbsp;&nbsp;&nbsp;&nbsp;<br>公司&nbsp;&nbsp;&nbsp;&nbsp;&nbsp;&nbsp;&nbsp;&nbsp;<br>。&nbsp;&nbsp;&nbsp;&nbsp;&nbsp;&nbsp;&nbsp;&nbsp;&nbsp;</pre><pre style=\"display: table-cell; font-family: SFMono-Regular,Menlo,Monaco,Consolas,Liberation Mono,Courier New,monospace; white-space: nowrap; line-height: 128%; padding: 0;\">NER&nbsp;Type&nbsp;&nbsp;&nbsp;&nbsp;&nbsp;&nbsp;&nbsp;&nbsp;&nbsp;<br>────────────────&nbsp;<br>───►DATE&nbsp;&nbsp;&nbsp;&nbsp;&nbsp;&nbsp;&nbsp;&nbsp;&nbsp;<br>&nbsp;&nbsp;&nbsp;&nbsp;&nbsp;&nbsp;&nbsp;&nbsp;&nbsp;&nbsp;&nbsp;&nbsp;&nbsp;&nbsp;&nbsp;&nbsp;&nbsp;<br>&nbsp;&nbsp;&nbsp;&nbsp;&nbsp;&nbsp;&nbsp;&nbsp;&nbsp;&nbsp;&nbsp;&nbsp;&nbsp;&nbsp;&nbsp;&nbsp;&nbsp;<br>&nbsp;&nbsp;&nbsp;&nbsp;&nbsp;&nbsp;&nbsp;&nbsp;&nbsp;&nbsp;&nbsp;&nbsp;&nbsp;&nbsp;&nbsp;&nbsp;&nbsp;<br>&nbsp;&nbsp;&nbsp;&nbsp;&nbsp;&nbsp;&nbsp;&nbsp;&nbsp;&nbsp;&nbsp;&nbsp;&nbsp;&nbsp;&nbsp;&nbsp;&nbsp;<br>&nbsp;&nbsp;&nbsp;&nbsp;&nbsp;&nbsp;&nbsp;&nbsp;&nbsp;&nbsp;&nbsp;&nbsp;&nbsp;&nbsp;&nbsp;&nbsp;&nbsp;<br>&nbsp;&nbsp;&nbsp;&nbsp;&nbsp;&nbsp;&nbsp;&nbsp;&nbsp;&nbsp;&nbsp;&nbsp;&nbsp;&nbsp;&nbsp;&nbsp;&nbsp;<br>&nbsp;&nbsp;&nbsp;&nbsp;&nbsp;&nbsp;&nbsp;&nbsp;&nbsp;&nbsp;&nbsp;&nbsp;&nbsp;&nbsp;&nbsp;&nbsp;&nbsp;<br>&nbsp;&nbsp;&nbsp;&nbsp;&nbsp;&nbsp;&nbsp;&nbsp;&nbsp;&nbsp;&nbsp;&nbsp;&nbsp;&nbsp;&nbsp;&nbsp;&nbsp;<br>&nbsp;&nbsp;&nbsp;&nbsp;&nbsp;&nbsp;&nbsp;&nbsp;&nbsp;&nbsp;&nbsp;&nbsp;&nbsp;&nbsp;&nbsp;&nbsp;&nbsp;<br>&nbsp;&nbsp;&nbsp;&nbsp;&nbsp;&nbsp;&nbsp;&nbsp;&nbsp;&nbsp;&nbsp;&nbsp;&nbsp;&nbsp;&nbsp;&nbsp;&nbsp;<br>&nbsp;&nbsp;&nbsp;&nbsp;&nbsp;&nbsp;&nbsp;&nbsp;&nbsp;&nbsp;&nbsp;&nbsp;&nbsp;&nbsp;&nbsp;&nbsp;&nbsp;<br>&nbsp;&nbsp;&nbsp;&nbsp;&nbsp;&nbsp;&nbsp;&nbsp;&nbsp;&nbsp;&nbsp;&nbsp;&nbsp;&nbsp;&nbsp;&nbsp;&nbsp;<br>&nbsp;&nbsp;&nbsp;&nbsp;&nbsp;&nbsp;&nbsp;&nbsp;&nbsp;&nbsp;&nbsp;&nbsp;&nbsp;&nbsp;&nbsp;&nbsp;&nbsp;<br>&nbsp;&nbsp;&nbsp;&nbsp;&nbsp;&nbsp;&nbsp;&nbsp;&nbsp;&nbsp;&nbsp;&nbsp;&nbsp;&nbsp;&nbsp;&nbsp;&nbsp;<br>───►PERSON&nbsp;&nbsp;&nbsp;&nbsp;&nbsp;&nbsp;&nbsp;<br>&nbsp;&nbsp;&nbsp;&nbsp;&nbsp;&nbsp;&nbsp;&nbsp;&nbsp;&nbsp;&nbsp;&nbsp;&nbsp;&nbsp;&nbsp;&nbsp;&nbsp;<br>───►LOCATION&nbsp;&nbsp;&nbsp;&nbsp;&nbsp;<br>───►LOCATION&nbsp;&nbsp;&nbsp;&nbsp;&nbsp;<br>&nbsp;&nbsp;&nbsp;&nbsp;&nbsp;&nbsp;&nbsp;&nbsp;&nbsp;&nbsp;&nbsp;&nbsp;&nbsp;&nbsp;&nbsp;&nbsp;&nbsp;<br>◄─┐&nbsp;&nbsp;&nbsp;&nbsp;&nbsp;&nbsp;&nbsp;&nbsp;&nbsp;&nbsp;&nbsp;&nbsp;&nbsp;&nbsp;<br>&nbsp;&nbsp;│&nbsp;&nbsp;&nbsp;&nbsp;&nbsp;&nbsp;&nbsp;&nbsp;&nbsp;&nbsp;&nbsp;&nbsp;&nbsp;&nbsp;<br>&nbsp;&nbsp;├►ORGANIZATION&nbsp;<br>◄─┘&nbsp;&nbsp;&nbsp;&nbsp;&nbsp;&nbsp;&nbsp;&nbsp;&nbsp;&nbsp;&nbsp;&nbsp;&nbsp;&nbsp;<br>&nbsp;&nbsp;&nbsp;&nbsp;&nbsp;&nbsp;&nbsp;&nbsp;&nbsp;&nbsp;&nbsp;&nbsp;&nbsp;&nbsp;&nbsp;&nbsp;&nbsp;</pre><pre style=\"display: table-cell; font-family: SFMono-Regular,Menlo,Monaco,Consolas,Liberation Mono,Courier New,monospace; white-space: nowrap; line-height: 128%; padding: 0;\">Token&nbsp;&nbsp;&nbsp;&nbsp;&nbsp;<br>─────────&nbsp;<br>2021年&nbsp;&nbsp;&nbsp;&nbsp;&nbsp;<br>HanLPv2.1&nbsp;<br>为&nbsp;&nbsp;&nbsp;&nbsp;&nbsp;&nbsp;&nbsp;&nbsp;&nbsp;<br>生产&nbsp;&nbsp;&nbsp;&nbsp;&nbsp;&nbsp;&nbsp;&nbsp;<br>环境&nbsp;&nbsp;&nbsp;&nbsp;&nbsp;&nbsp;&nbsp;&nbsp;<br>带来&nbsp;&nbsp;&nbsp;&nbsp;&nbsp;&nbsp;&nbsp;&nbsp;<br>次世代&nbsp;&nbsp;&nbsp;&nbsp;&nbsp;&nbsp;&nbsp;<br>最&nbsp;&nbsp;&nbsp;&nbsp;&nbsp;&nbsp;&nbsp;&nbsp;&nbsp;<br>先进&nbsp;&nbsp;&nbsp;&nbsp;&nbsp;&nbsp;&nbsp;&nbsp;<br>的&nbsp;&nbsp;&nbsp;&nbsp;&nbsp;&nbsp;&nbsp;&nbsp;&nbsp;<br>多&nbsp;&nbsp;&nbsp;&nbsp;&nbsp;&nbsp;&nbsp;&nbsp;&nbsp;<br>语种&nbsp;&nbsp;&nbsp;&nbsp;&nbsp;&nbsp;&nbsp;&nbsp;<br>NLP&nbsp;&nbsp;&nbsp;&nbsp;&nbsp;&nbsp;&nbsp;<br>技术&nbsp;&nbsp;&nbsp;&nbsp;&nbsp;&nbsp;&nbsp;&nbsp;<br>。&nbsp;&nbsp;&nbsp;&nbsp;&nbsp;&nbsp;&nbsp;&nbsp;&nbsp;<br>晓美焰&nbsp;&nbsp;&nbsp;&nbsp;&nbsp;&nbsp;&nbsp;<br>来到&nbsp;&nbsp;&nbsp;&nbsp;&nbsp;&nbsp;&nbsp;&nbsp;<br>北京&nbsp;&nbsp;&nbsp;&nbsp;&nbsp;&nbsp;&nbsp;&nbsp;<br>立方庭&nbsp;&nbsp;&nbsp;&nbsp;&nbsp;&nbsp;&nbsp;<br>参观&nbsp;&nbsp;&nbsp;&nbsp;&nbsp;&nbsp;&nbsp;&nbsp;<br>自然&nbsp;&nbsp;&nbsp;&nbsp;&nbsp;&nbsp;&nbsp;&nbsp;<br>语义&nbsp;&nbsp;&nbsp;&nbsp;&nbsp;&nbsp;&nbsp;&nbsp;<br>科技&nbsp;&nbsp;&nbsp;&nbsp;&nbsp;&nbsp;&nbsp;&nbsp;<br>公司&nbsp;&nbsp;&nbsp;&nbsp;&nbsp;&nbsp;&nbsp;&nbsp;<br>。&nbsp;&nbsp;&nbsp;&nbsp;&nbsp;&nbsp;&nbsp;&nbsp;&nbsp;</pre><pre style=\"display: table-cell; font-family: SFMono-Regular,Menlo,Monaco,Consolas,Liberation Mono,Courier New,monospace; white-space: nowrap; line-height: 128%; padding: 0;\">SRL&nbsp;PA1&nbsp;&nbsp;&nbsp;&nbsp;&nbsp;&nbsp;<br>────────────&nbsp;<br>───►ARGM-TMP&nbsp;<br>───►ARG0&nbsp;&nbsp;&nbsp;&nbsp;&nbsp;<br>◄─┐&nbsp;&nbsp;&nbsp;&nbsp;&nbsp;&nbsp;&nbsp;&nbsp;&nbsp;&nbsp;<br>&nbsp;&nbsp;├►ARG2&nbsp;&nbsp;&nbsp;&nbsp;&nbsp;<br>◄─┘&nbsp;&nbsp;&nbsp;&nbsp;&nbsp;&nbsp;&nbsp;&nbsp;&nbsp;&nbsp;<br>╟──►PRED&nbsp;&nbsp;&nbsp;&nbsp;&nbsp;<br>◄─┐&nbsp;&nbsp;&nbsp;&nbsp;&nbsp;&nbsp;&nbsp;&nbsp;&nbsp;&nbsp;<br>&nbsp;&nbsp;│&nbsp;&nbsp;&nbsp;&nbsp;&nbsp;&nbsp;&nbsp;&nbsp;&nbsp;&nbsp;<br>&nbsp;&nbsp;│&nbsp;&nbsp;&nbsp;&nbsp;&nbsp;&nbsp;&nbsp;&nbsp;&nbsp;&nbsp;<br>&nbsp;&nbsp;│&nbsp;&nbsp;&nbsp;&nbsp;&nbsp;&nbsp;&nbsp;&nbsp;&nbsp;&nbsp;<br>&nbsp;&nbsp;├►ARG1&nbsp;&nbsp;&nbsp;&nbsp;&nbsp;<br>&nbsp;&nbsp;│&nbsp;&nbsp;&nbsp;&nbsp;&nbsp;&nbsp;&nbsp;&nbsp;&nbsp;&nbsp;<br>&nbsp;&nbsp;│&nbsp;&nbsp;&nbsp;&nbsp;&nbsp;&nbsp;&nbsp;&nbsp;&nbsp;&nbsp;<br>◄─┘&nbsp;&nbsp;&nbsp;&nbsp;&nbsp;&nbsp;&nbsp;&nbsp;&nbsp;&nbsp;<br>&nbsp;&nbsp;&nbsp;&nbsp;&nbsp;&nbsp;&nbsp;&nbsp;&nbsp;&nbsp;&nbsp;&nbsp;&nbsp;<br>&nbsp;&nbsp;&nbsp;&nbsp;&nbsp;&nbsp;&nbsp;&nbsp;&nbsp;&nbsp;&nbsp;&nbsp;&nbsp;<br>&nbsp;&nbsp;&nbsp;&nbsp;&nbsp;&nbsp;&nbsp;&nbsp;&nbsp;&nbsp;&nbsp;&nbsp;&nbsp;<br>&nbsp;&nbsp;&nbsp;&nbsp;&nbsp;&nbsp;&nbsp;&nbsp;&nbsp;&nbsp;&nbsp;&nbsp;&nbsp;<br>&nbsp;&nbsp;&nbsp;&nbsp;&nbsp;&nbsp;&nbsp;&nbsp;&nbsp;&nbsp;&nbsp;&nbsp;&nbsp;<br>&nbsp;&nbsp;&nbsp;&nbsp;&nbsp;&nbsp;&nbsp;&nbsp;&nbsp;&nbsp;&nbsp;&nbsp;&nbsp;<br>&nbsp;&nbsp;&nbsp;&nbsp;&nbsp;&nbsp;&nbsp;&nbsp;&nbsp;&nbsp;&nbsp;&nbsp;&nbsp;<br>&nbsp;&nbsp;&nbsp;&nbsp;&nbsp;&nbsp;&nbsp;&nbsp;&nbsp;&nbsp;&nbsp;&nbsp;&nbsp;<br>&nbsp;&nbsp;&nbsp;&nbsp;&nbsp;&nbsp;&nbsp;&nbsp;&nbsp;&nbsp;&nbsp;&nbsp;&nbsp;<br>&nbsp;&nbsp;&nbsp;&nbsp;&nbsp;&nbsp;&nbsp;&nbsp;&nbsp;&nbsp;&nbsp;&nbsp;&nbsp;<br>&nbsp;&nbsp;&nbsp;&nbsp;&nbsp;&nbsp;&nbsp;&nbsp;&nbsp;&nbsp;&nbsp;&nbsp;&nbsp;</pre><pre style=\"display: table-cell; font-family: SFMono-Regular,Menlo,Monaco,Consolas,Liberation Mono,Courier New,monospace; white-space: nowrap; line-height: 128%; padding: 0;\">Token&nbsp;&nbsp;&nbsp;&nbsp;&nbsp;<br>─────────&nbsp;<br>2021年&nbsp;&nbsp;&nbsp;&nbsp;&nbsp;<br>HanLPv2.1&nbsp;<br>为&nbsp;&nbsp;&nbsp;&nbsp;&nbsp;&nbsp;&nbsp;&nbsp;&nbsp;<br>生产&nbsp;&nbsp;&nbsp;&nbsp;&nbsp;&nbsp;&nbsp;&nbsp;<br>环境&nbsp;&nbsp;&nbsp;&nbsp;&nbsp;&nbsp;&nbsp;&nbsp;<br>带来&nbsp;&nbsp;&nbsp;&nbsp;&nbsp;&nbsp;&nbsp;&nbsp;<br>次世代&nbsp;&nbsp;&nbsp;&nbsp;&nbsp;&nbsp;&nbsp;<br>最&nbsp;&nbsp;&nbsp;&nbsp;&nbsp;&nbsp;&nbsp;&nbsp;&nbsp;<br>先进&nbsp;&nbsp;&nbsp;&nbsp;&nbsp;&nbsp;&nbsp;&nbsp;<br>的&nbsp;&nbsp;&nbsp;&nbsp;&nbsp;&nbsp;&nbsp;&nbsp;&nbsp;<br>多&nbsp;&nbsp;&nbsp;&nbsp;&nbsp;&nbsp;&nbsp;&nbsp;&nbsp;<br>语种&nbsp;&nbsp;&nbsp;&nbsp;&nbsp;&nbsp;&nbsp;&nbsp;<br>NLP&nbsp;&nbsp;&nbsp;&nbsp;&nbsp;&nbsp;&nbsp;<br>技术&nbsp;&nbsp;&nbsp;&nbsp;&nbsp;&nbsp;&nbsp;&nbsp;<br>。&nbsp;&nbsp;&nbsp;&nbsp;&nbsp;&nbsp;&nbsp;&nbsp;&nbsp;<br>晓美焰&nbsp;&nbsp;&nbsp;&nbsp;&nbsp;&nbsp;&nbsp;<br>来到&nbsp;&nbsp;&nbsp;&nbsp;&nbsp;&nbsp;&nbsp;&nbsp;<br>北京&nbsp;&nbsp;&nbsp;&nbsp;&nbsp;&nbsp;&nbsp;&nbsp;<br>立方庭&nbsp;&nbsp;&nbsp;&nbsp;&nbsp;&nbsp;&nbsp;<br>参观&nbsp;&nbsp;&nbsp;&nbsp;&nbsp;&nbsp;&nbsp;&nbsp;<br>自然&nbsp;&nbsp;&nbsp;&nbsp;&nbsp;&nbsp;&nbsp;&nbsp;<br>语义&nbsp;&nbsp;&nbsp;&nbsp;&nbsp;&nbsp;&nbsp;&nbsp;<br>科技&nbsp;&nbsp;&nbsp;&nbsp;&nbsp;&nbsp;&nbsp;&nbsp;<br>公司&nbsp;&nbsp;&nbsp;&nbsp;&nbsp;&nbsp;&nbsp;&nbsp;<br>。&nbsp;&nbsp;&nbsp;&nbsp;&nbsp;&nbsp;&nbsp;&nbsp;&nbsp;</pre><pre style=\"display: table-cell; font-family: SFMono-Regular,Menlo,Monaco,Consolas,Liberation Mono,Courier New,monospace; white-space: nowrap; line-height: 128%; padding: 0;\">SRL&nbsp;PA2&nbsp;&nbsp;&nbsp;&nbsp;&nbsp;&nbsp;<br>────────────&nbsp;<br>&nbsp;&nbsp;&nbsp;&nbsp;&nbsp;&nbsp;&nbsp;&nbsp;&nbsp;&nbsp;&nbsp;&nbsp;&nbsp;<br>&nbsp;&nbsp;&nbsp;&nbsp;&nbsp;&nbsp;&nbsp;&nbsp;&nbsp;&nbsp;&nbsp;&nbsp;&nbsp;<br>&nbsp;&nbsp;&nbsp;&nbsp;&nbsp;&nbsp;&nbsp;&nbsp;&nbsp;&nbsp;&nbsp;&nbsp;&nbsp;<br>&nbsp;&nbsp;&nbsp;&nbsp;&nbsp;&nbsp;&nbsp;&nbsp;&nbsp;&nbsp;&nbsp;&nbsp;&nbsp;<br>&nbsp;&nbsp;&nbsp;&nbsp;&nbsp;&nbsp;&nbsp;&nbsp;&nbsp;&nbsp;&nbsp;&nbsp;&nbsp;<br>&nbsp;&nbsp;&nbsp;&nbsp;&nbsp;&nbsp;&nbsp;&nbsp;&nbsp;&nbsp;&nbsp;&nbsp;&nbsp;<br>───►ARGM-TMP&nbsp;<br>───►ARGM-ADV&nbsp;<br>╟──►PRED&nbsp;&nbsp;&nbsp;&nbsp;&nbsp;<br>&nbsp;&nbsp;&nbsp;&nbsp;&nbsp;&nbsp;&nbsp;&nbsp;&nbsp;&nbsp;&nbsp;&nbsp;&nbsp;<br>&nbsp;&nbsp;&nbsp;&nbsp;&nbsp;&nbsp;&nbsp;&nbsp;&nbsp;&nbsp;&nbsp;&nbsp;&nbsp;<br>&nbsp;&nbsp;&nbsp;&nbsp;&nbsp;&nbsp;&nbsp;&nbsp;&nbsp;&nbsp;&nbsp;&nbsp;&nbsp;<br>&nbsp;&nbsp;&nbsp;&nbsp;&nbsp;&nbsp;&nbsp;&nbsp;&nbsp;&nbsp;&nbsp;&nbsp;&nbsp;<br>───►ARG0&nbsp;&nbsp;&nbsp;&nbsp;&nbsp;<br>&nbsp;&nbsp;&nbsp;&nbsp;&nbsp;&nbsp;&nbsp;&nbsp;&nbsp;&nbsp;&nbsp;&nbsp;&nbsp;<br>&nbsp;&nbsp;&nbsp;&nbsp;&nbsp;&nbsp;&nbsp;&nbsp;&nbsp;&nbsp;&nbsp;&nbsp;&nbsp;<br>&nbsp;&nbsp;&nbsp;&nbsp;&nbsp;&nbsp;&nbsp;&nbsp;&nbsp;&nbsp;&nbsp;&nbsp;&nbsp;<br>&nbsp;&nbsp;&nbsp;&nbsp;&nbsp;&nbsp;&nbsp;&nbsp;&nbsp;&nbsp;&nbsp;&nbsp;&nbsp;<br>&nbsp;&nbsp;&nbsp;&nbsp;&nbsp;&nbsp;&nbsp;&nbsp;&nbsp;&nbsp;&nbsp;&nbsp;&nbsp;<br>&nbsp;&nbsp;&nbsp;&nbsp;&nbsp;&nbsp;&nbsp;&nbsp;&nbsp;&nbsp;&nbsp;&nbsp;&nbsp;<br>&nbsp;&nbsp;&nbsp;&nbsp;&nbsp;&nbsp;&nbsp;&nbsp;&nbsp;&nbsp;&nbsp;&nbsp;&nbsp;<br>&nbsp;&nbsp;&nbsp;&nbsp;&nbsp;&nbsp;&nbsp;&nbsp;&nbsp;&nbsp;&nbsp;&nbsp;&nbsp;<br>&nbsp;&nbsp;&nbsp;&nbsp;&nbsp;&nbsp;&nbsp;&nbsp;&nbsp;&nbsp;&nbsp;&nbsp;&nbsp;<br>&nbsp;&nbsp;&nbsp;&nbsp;&nbsp;&nbsp;&nbsp;&nbsp;&nbsp;&nbsp;&nbsp;&nbsp;&nbsp;<br>&nbsp;&nbsp;&nbsp;&nbsp;&nbsp;&nbsp;&nbsp;&nbsp;&nbsp;&nbsp;&nbsp;&nbsp;&nbsp;</pre><pre style=\"display: table-cell; font-family: SFMono-Regular,Menlo,Monaco,Consolas,Liberation Mono,Courier New,monospace; white-space: nowrap; line-height: 128%; padding: 0;\">Token&nbsp;&nbsp;&nbsp;&nbsp;&nbsp;<br>─────────&nbsp;<br>2021年&nbsp;&nbsp;&nbsp;&nbsp;&nbsp;<br>HanLPv2.1&nbsp;<br>为&nbsp;&nbsp;&nbsp;&nbsp;&nbsp;&nbsp;&nbsp;&nbsp;&nbsp;<br>生产&nbsp;&nbsp;&nbsp;&nbsp;&nbsp;&nbsp;&nbsp;&nbsp;<br>环境&nbsp;&nbsp;&nbsp;&nbsp;&nbsp;&nbsp;&nbsp;&nbsp;<br>带来&nbsp;&nbsp;&nbsp;&nbsp;&nbsp;&nbsp;&nbsp;&nbsp;<br>次世代&nbsp;&nbsp;&nbsp;&nbsp;&nbsp;&nbsp;&nbsp;<br>最&nbsp;&nbsp;&nbsp;&nbsp;&nbsp;&nbsp;&nbsp;&nbsp;&nbsp;<br>先进&nbsp;&nbsp;&nbsp;&nbsp;&nbsp;&nbsp;&nbsp;&nbsp;<br>的&nbsp;&nbsp;&nbsp;&nbsp;&nbsp;&nbsp;&nbsp;&nbsp;&nbsp;<br>多&nbsp;&nbsp;&nbsp;&nbsp;&nbsp;&nbsp;&nbsp;&nbsp;&nbsp;<br>语种&nbsp;&nbsp;&nbsp;&nbsp;&nbsp;&nbsp;&nbsp;&nbsp;<br>NLP&nbsp;&nbsp;&nbsp;&nbsp;&nbsp;&nbsp;&nbsp;<br>技术&nbsp;&nbsp;&nbsp;&nbsp;&nbsp;&nbsp;&nbsp;&nbsp;<br>。&nbsp;&nbsp;&nbsp;&nbsp;&nbsp;&nbsp;&nbsp;&nbsp;&nbsp;<br>晓美焰&nbsp;&nbsp;&nbsp;&nbsp;&nbsp;&nbsp;&nbsp;<br>来到&nbsp;&nbsp;&nbsp;&nbsp;&nbsp;&nbsp;&nbsp;&nbsp;<br>北京&nbsp;&nbsp;&nbsp;&nbsp;&nbsp;&nbsp;&nbsp;&nbsp;<br>立方庭&nbsp;&nbsp;&nbsp;&nbsp;&nbsp;&nbsp;&nbsp;<br>参观&nbsp;&nbsp;&nbsp;&nbsp;&nbsp;&nbsp;&nbsp;&nbsp;<br>自然&nbsp;&nbsp;&nbsp;&nbsp;&nbsp;&nbsp;&nbsp;&nbsp;<br>语义&nbsp;&nbsp;&nbsp;&nbsp;&nbsp;&nbsp;&nbsp;&nbsp;<br>科技&nbsp;&nbsp;&nbsp;&nbsp;&nbsp;&nbsp;&nbsp;&nbsp;<br>公司&nbsp;&nbsp;&nbsp;&nbsp;&nbsp;&nbsp;&nbsp;&nbsp;<br>。&nbsp;&nbsp;&nbsp;&nbsp;&nbsp;&nbsp;&nbsp;&nbsp;&nbsp;</pre><pre style=\"display: table-cell; font-family: SFMono-Regular,Menlo,Monaco,Consolas,Liberation Mono,Courier New,monospace; white-space: nowrap; line-height: 128%; padding: 0;\">SRL&nbsp;PA3&nbsp;&nbsp;<br>────────&nbsp;<br>&nbsp;&nbsp;&nbsp;&nbsp;&nbsp;&nbsp;&nbsp;&nbsp;&nbsp;<br>&nbsp;&nbsp;&nbsp;&nbsp;&nbsp;&nbsp;&nbsp;&nbsp;&nbsp;<br>&nbsp;&nbsp;&nbsp;&nbsp;&nbsp;&nbsp;&nbsp;&nbsp;&nbsp;<br>&nbsp;&nbsp;&nbsp;&nbsp;&nbsp;&nbsp;&nbsp;&nbsp;&nbsp;<br>&nbsp;&nbsp;&nbsp;&nbsp;&nbsp;&nbsp;&nbsp;&nbsp;&nbsp;<br>&nbsp;&nbsp;&nbsp;&nbsp;&nbsp;&nbsp;&nbsp;&nbsp;&nbsp;<br>&nbsp;&nbsp;&nbsp;&nbsp;&nbsp;&nbsp;&nbsp;&nbsp;&nbsp;<br>&nbsp;&nbsp;&nbsp;&nbsp;&nbsp;&nbsp;&nbsp;&nbsp;&nbsp;<br>&nbsp;&nbsp;&nbsp;&nbsp;&nbsp;&nbsp;&nbsp;&nbsp;&nbsp;<br>&nbsp;&nbsp;&nbsp;&nbsp;&nbsp;&nbsp;&nbsp;&nbsp;&nbsp;<br>&nbsp;&nbsp;&nbsp;&nbsp;&nbsp;&nbsp;&nbsp;&nbsp;&nbsp;<br>&nbsp;&nbsp;&nbsp;&nbsp;&nbsp;&nbsp;&nbsp;&nbsp;&nbsp;<br>&nbsp;&nbsp;&nbsp;&nbsp;&nbsp;&nbsp;&nbsp;&nbsp;&nbsp;<br>&nbsp;&nbsp;&nbsp;&nbsp;&nbsp;&nbsp;&nbsp;&nbsp;&nbsp;<br>&nbsp;&nbsp;&nbsp;&nbsp;&nbsp;&nbsp;&nbsp;&nbsp;&nbsp;<br>───►ARG0&nbsp;<br>╟──►PRED&nbsp;<br>◄─┐&nbsp;&nbsp;&nbsp;&nbsp;&nbsp;&nbsp;<br>◄─┴►ARG1&nbsp;<br>&nbsp;&nbsp;&nbsp;&nbsp;&nbsp;&nbsp;&nbsp;&nbsp;&nbsp;<br>&nbsp;&nbsp;&nbsp;&nbsp;&nbsp;&nbsp;&nbsp;&nbsp;&nbsp;<br>&nbsp;&nbsp;&nbsp;&nbsp;&nbsp;&nbsp;&nbsp;&nbsp;&nbsp;<br>&nbsp;&nbsp;&nbsp;&nbsp;&nbsp;&nbsp;&nbsp;&nbsp;&nbsp;<br>&nbsp;&nbsp;&nbsp;&nbsp;&nbsp;&nbsp;&nbsp;&nbsp;&nbsp;<br>&nbsp;&nbsp;&nbsp;&nbsp;&nbsp;&nbsp;&nbsp;&nbsp;&nbsp;</pre><pre style=\"display: table-cell; font-family: SFMono-Regular,Menlo,Monaco,Consolas,Liberation Mono,Courier New,monospace; white-space: nowrap; line-height: 128%; padding: 0;\">Token&nbsp;&nbsp;&nbsp;&nbsp;&nbsp;<br>─────────&nbsp;<br>2021年&nbsp;&nbsp;&nbsp;&nbsp;&nbsp;<br>HanLPv2.1&nbsp;<br>为&nbsp;&nbsp;&nbsp;&nbsp;&nbsp;&nbsp;&nbsp;&nbsp;&nbsp;<br>生产&nbsp;&nbsp;&nbsp;&nbsp;&nbsp;&nbsp;&nbsp;&nbsp;<br>环境&nbsp;&nbsp;&nbsp;&nbsp;&nbsp;&nbsp;&nbsp;&nbsp;<br>带来&nbsp;&nbsp;&nbsp;&nbsp;&nbsp;&nbsp;&nbsp;&nbsp;<br>次世代&nbsp;&nbsp;&nbsp;&nbsp;&nbsp;&nbsp;&nbsp;<br>最&nbsp;&nbsp;&nbsp;&nbsp;&nbsp;&nbsp;&nbsp;&nbsp;&nbsp;<br>先进&nbsp;&nbsp;&nbsp;&nbsp;&nbsp;&nbsp;&nbsp;&nbsp;<br>的&nbsp;&nbsp;&nbsp;&nbsp;&nbsp;&nbsp;&nbsp;&nbsp;&nbsp;<br>多&nbsp;&nbsp;&nbsp;&nbsp;&nbsp;&nbsp;&nbsp;&nbsp;&nbsp;<br>语种&nbsp;&nbsp;&nbsp;&nbsp;&nbsp;&nbsp;&nbsp;&nbsp;<br>NLP&nbsp;&nbsp;&nbsp;&nbsp;&nbsp;&nbsp;&nbsp;<br>技术&nbsp;&nbsp;&nbsp;&nbsp;&nbsp;&nbsp;&nbsp;&nbsp;<br>。&nbsp;&nbsp;&nbsp;&nbsp;&nbsp;&nbsp;&nbsp;&nbsp;&nbsp;<br>晓美焰&nbsp;&nbsp;&nbsp;&nbsp;&nbsp;&nbsp;&nbsp;<br>来到&nbsp;&nbsp;&nbsp;&nbsp;&nbsp;&nbsp;&nbsp;&nbsp;<br>北京&nbsp;&nbsp;&nbsp;&nbsp;&nbsp;&nbsp;&nbsp;&nbsp;<br>立方庭&nbsp;&nbsp;&nbsp;&nbsp;&nbsp;&nbsp;&nbsp;<br>参观&nbsp;&nbsp;&nbsp;&nbsp;&nbsp;&nbsp;&nbsp;&nbsp;<br>自然&nbsp;&nbsp;&nbsp;&nbsp;&nbsp;&nbsp;&nbsp;&nbsp;<br>语义&nbsp;&nbsp;&nbsp;&nbsp;&nbsp;&nbsp;&nbsp;&nbsp;<br>科技&nbsp;&nbsp;&nbsp;&nbsp;&nbsp;&nbsp;&nbsp;&nbsp;<br>公司&nbsp;&nbsp;&nbsp;&nbsp;&nbsp;&nbsp;&nbsp;&nbsp;<br>。&nbsp;&nbsp;&nbsp;&nbsp;&nbsp;&nbsp;&nbsp;&nbsp;&nbsp;</pre><pre style=\"display: table-cell; font-family: SFMono-Regular,Menlo,Monaco,Consolas,Liberation Mono,Courier New,monospace; white-space: nowrap; line-height: 128%; padding: 0;\">SRL&nbsp;PA4&nbsp;&nbsp;<br>────────&nbsp;<br>&nbsp;&nbsp;&nbsp;&nbsp;&nbsp;&nbsp;&nbsp;&nbsp;&nbsp;<br>&nbsp;&nbsp;&nbsp;&nbsp;&nbsp;&nbsp;&nbsp;&nbsp;&nbsp;<br>&nbsp;&nbsp;&nbsp;&nbsp;&nbsp;&nbsp;&nbsp;&nbsp;&nbsp;<br>&nbsp;&nbsp;&nbsp;&nbsp;&nbsp;&nbsp;&nbsp;&nbsp;&nbsp;<br>&nbsp;&nbsp;&nbsp;&nbsp;&nbsp;&nbsp;&nbsp;&nbsp;&nbsp;<br>&nbsp;&nbsp;&nbsp;&nbsp;&nbsp;&nbsp;&nbsp;&nbsp;&nbsp;<br>&nbsp;&nbsp;&nbsp;&nbsp;&nbsp;&nbsp;&nbsp;&nbsp;&nbsp;<br>&nbsp;&nbsp;&nbsp;&nbsp;&nbsp;&nbsp;&nbsp;&nbsp;&nbsp;<br>&nbsp;&nbsp;&nbsp;&nbsp;&nbsp;&nbsp;&nbsp;&nbsp;&nbsp;<br>&nbsp;&nbsp;&nbsp;&nbsp;&nbsp;&nbsp;&nbsp;&nbsp;&nbsp;<br>&nbsp;&nbsp;&nbsp;&nbsp;&nbsp;&nbsp;&nbsp;&nbsp;&nbsp;<br>&nbsp;&nbsp;&nbsp;&nbsp;&nbsp;&nbsp;&nbsp;&nbsp;&nbsp;<br>&nbsp;&nbsp;&nbsp;&nbsp;&nbsp;&nbsp;&nbsp;&nbsp;&nbsp;<br>&nbsp;&nbsp;&nbsp;&nbsp;&nbsp;&nbsp;&nbsp;&nbsp;&nbsp;<br>&nbsp;&nbsp;&nbsp;&nbsp;&nbsp;&nbsp;&nbsp;&nbsp;&nbsp;<br>───►ARG0&nbsp;<br>&nbsp;&nbsp;&nbsp;&nbsp;&nbsp;&nbsp;&nbsp;&nbsp;&nbsp;<br>&nbsp;&nbsp;&nbsp;&nbsp;&nbsp;&nbsp;&nbsp;&nbsp;&nbsp;<br>&nbsp;&nbsp;&nbsp;&nbsp;&nbsp;&nbsp;&nbsp;&nbsp;&nbsp;<br>╟──►PRED&nbsp;<br>◄─┐&nbsp;&nbsp;&nbsp;&nbsp;&nbsp;&nbsp;<br>&nbsp;&nbsp;│&nbsp;&nbsp;&nbsp;&nbsp;&nbsp;&nbsp;<br>&nbsp;&nbsp;├►ARG1&nbsp;<br>◄─┘&nbsp;&nbsp;&nbsp;&nbsp;&nbsp;&nbsp;<br>&nbsp;&nbsp;&nbsp;&nbsp;&nbsp;&nbsp;&nbsp;&nbsp;&nbsp;</pre><pre style=\"display: table-cell; font-family: SFMono-Regular,Menlo,Monaco,Consolas,Liberation Mono,Courier New,monospace; white-space: nowrap; line-height: 128%; padding: 0;\">Token&nbsp;&nbsp;&nbsp;&nbsp;&nbsp;<br>─────────&nbsp;<br>2021年&nbsp;&nbsp;&nbsp;&nbsp;&nbsp;<br>HanLPv2.1&nbsp;<br>为&nbsp;&nbsp;&nbsp;&nbsp;&nbsp;&nbsp;&nbsp;&nbsp;&nbsp;<br>生产&nbsp;&nbsp;&nbsp;&nbsp;&nbsp;&nbsp;&nbsp;&nbsp;<br>环境&nbsp;&nbsp;&nbsp;&nbsp;&nbsp;&nbsp;&nbsp;&nbsp;<br>带来&nbsp;&nbsp;&nbsp;&nbsp;&nbsp;&nbsp;&nbsp;&nbsp;<br>次世代&nbsp;&nbsp;&nbsp;&nbsp;&nbsp;&nbsp;&nbsp;<br>最&nbsp;&nbsp;&nbsp;&nbsp;&nbsp;&nbsp;&nbsp;&nbsp;&nbsp;<br>先进&nbsp;&nbsp;&nbsp;&nbsp;&nbsp;&nbsp;&nbsp;&nbsp;<br>的&nbsp;&nbsp;&nbsp;&nbsp;&nbsp;&nbsp;&nbsp;&nbsp;&nbsp;<br>多&nbsp;&nbsp;&nbsp;&nbsp;&nbsp;&nbsp;&nbsp;&nbsp;&nbsp;<br>语种&nbsp;&nbsp;&nbsp;&nbsp;&nbsp;&nbsp;&nbsp;&nbsp;<br>NLP&nbsp;&nbsp;&nbsp;&nbsp;&nbsp;&nbsp;&nbsp;<br>技术&nbsp;&nbsp;&nbsp;&nbsp;&nbsp;&nbsp;&nbsp;&nbsp;<br>。&nbsp;&nbsp;&nbsp;&nbsp;&nbsp;&nbsp;&nbsp;&nbsp;&nbsp;<br>晓美焰&nbsp;&nbsp;&nbsp;&nbsp;&nbsp;&nbsp;&nbsp;<br>来到&nbsp;&nbsp;&nbsp;&nbsp;&nbsp;&nbsp;&nbsp;&nbsp;<br>北京&nbsp;&nbsp;&nbsp;&nbsp;&nbsp;&nbsp;&nbsp;&nbsp;<br>立方庭&nbsp;&nbsp;&nbsp;&nbsp;&nbsp;&nbsp;&nbsp;<br>参观&nbsp;&nbsp;&nbsp;&nbsp;&nbsp;&nbsp;&nbsp;&nbsp;<br>自然&nbsp;&nbsp;&nbsp;&nbsp;&nbsp;&nbsp;&nbsp;&nbsp;<br>语义&nbsp;&nbsp;&nbsp;&nbsp;&nbsp;&nbsp;&nbsp;&nbsp;<br>科技&nbsp;&nbsp;&nbsp;&nbsp;&nbsp;&nbsp;&nbsp;&nbsp;<br>公司&nbsp;&nbsp;&nbsp;&nbsp;&nbsp;&nbsp;&nbsp;&nbsp;<br>。&nbsp;&nbsp;&nbsp;&nbsp;&nbsp;&nbsp;&nbsp;&nbsp;&nbsp;</pre><pre style=\"display: table-cell; font-family: SFMono-Regular,Menlo,Monaco,Consolas,Liberation Mono,Courier New,monospace; white-space: nowrap; line-height: 128%; padding: 0;\">PoS&nbsp;&nbsp;&nbsp;&nbsp;3&nbsp;&nbsp;&nbsp;&nbsp;&nbsp;&nbsp;&nbsp;4&nbsp;&nbsp;&nbsp;&nbsp;&nbsp;&nbsp;&nbsp;5&nbsp;&nbsp;&nbsp;&nbsp;&nbsp;&nbsp;&nbsp;6&nbsp;&nbsp;&nbsp;&nbsp;&nbsp;&nbsp;&nbsp;7&nbsp;&nbsp;&nbsp;&nbsp;&nbsp;&nbsp;&nbsp;8&nbsp;&nbsp;&nbsp;&nbsp;&nbsp;&nbsp;&nbsp;9&nbsp;&nbsp;&nbsp;&nbsp;&nbsp;&nbsp;&nbsp;10&nbsp;&nbsp;&nbsp;&nbsp;&nbsp;&nbsp;11&nbsp;&nbsp;&nbsp;&nbsp;&nbsp;&nbsp;12&nbsp;&nbsp;&nbsp;&nbsp;&nbsp;&nbsp;13&nbsp;&nbsp;&nbsp;&nbsp;&nbsp;&nbsp;14<br>─────────────────────────────────────────────────────────────────────────────────────────────────<br>NT&nbsp;───────────────────────────────────────────────────────────────────────────►NP&nbsp;───┐&nbsp;&nbsp;&nbsp;&nbsp;&nbsp;&nbsp;&nbsp;&nbsp;&nbsp;&nbsp;&nbsp;<br>NN&nbsp;───────────────────────────────────────────────────────────────────────────►NP────┤&nbsp;&nbsp;&nbsp;&nbsp;&nbsp;&nbsp;&nbsp;&nbsp;&nbsp;&nbsp;&nbsp;<br>P&nbsp;───────────┐&nbsp;&nbsp;&nbsp;&nbsp;&nbsp;&nbsp;&nbsp;&nbsp;&nbsp;&nbsp;&nbsp;&nbsp;&nbsp;&nbsp;&nbsp;&nbsp;&nbsp;&nbsp;&nbsp;&nbsp;&nbsp;&nbsp;&nbsp;&nbsp;&nbsp;&nbsp;&nbsp;&nbsp;&nbsp;&nbsp;&nbsp;&nbsp;&nbsp;&nbsp;&nbsp;&nbsp;&nbsp;&nbsp;&nbsp;&nbsp;&nbsp;&nbsp;&nbsp;&nbsp;&nbsp;&nbsp;&nbsp;&nbsp;&nbsp;&nbsp;&nbsp;&nbsp;&nbsp;&nbsp;&nbsp;&nbsp;&nbsp;&nbsp;&nbsp;&nbsp;&nbsp;&nbsp;&nbsp;&nbsp;&nbsp;&nbsp;&nbsp;&nbsp;&nbsp;&nbsp;&nbsp;│&nbsp;&nbsp;&nbsp;&nbsp;&nbsp;&nbsp;&nbsp;&nbsp;&nbsp;&nbsp;&nbsp;<br>NN&nbsp;──┐&nbsp;&nbsp;&nbsp;&nbsp;&nbsp;&nbsp;&nbsp;├────────────────────────────────────────────────────────►PP&nbsp;───┐&nbsp;&nbsp;&nbsp;&nbsp;&nbsp;&nbsp;&nbsp;├►IP&nbsp;───┐&nbsp;&nbsp;&nbsp;<br>NN&nbsp;──┴►NP&nbsp;───┘&nbsp;&nbsp;&nbsp;&nbsp;&nbsp;&nbsp;&nbsp;&nbsp;&nbsp;&nbsp;&nbsp;&nbsp;&nbsp;&nbsp;&nbsp;&nbsp;&nbsp;&nbsp;&nbsp;&nbsp;&nbsp;&nbsp;&nbsp;&nbsp;&nbsp;&nbsp;&nbsp;&nbsp;&nbsp;&nbsp;&nbsp;&nbsp;&nbsp;&nbsp;&nbsp;&nbsp;&nbsp;&nbsp;&nbsp;&nbsp;&nbsp;&nbsp;&nbsp;&nbsp;&nbsp;&nbsp;&nbsp;&nbsp;&nbsp;&nbsp;&nbsp;&nbsp;&nbsp;&nbsp;&nbsp;&nbsp;&nbsp;&nbsp;&nbsp;&nbsp;&nbsp;&nbsp;&nbsp;│&nbsp;&nbsp;&nbsp;&nbsp;&nbsp;&nbsp;&nbsp;│&nbsp;&nbsp;&nbsp;&nbsp;&nbsp;&nbsp;&nbsp;│&nbsp;&nbsp;&nbsp;<br>VV&nbsp;──────────────────────────────────────────────────────────────────┐&nbsp;&nbsp;&nbsp;&nbsp;&nbsp;&nbsp;&nbsp;│&nbsp;&nbsp;&nbsp;&nbsp;&nbsp;&nbsp;&nbsp;│&nbsp;&nbsp;&nbsp;&nbsp;&nbsp;&nbsp;&nbsp;│&nbsp;&nbsp;&nbsp;<br>NN&nbsp;───────────►NP&nbsp;───┐&nbsp;&nbsp;&nbsp;&nbsp;&nbsp;&nbsp;&nbsp;&nbsp;&nbsp;&nbsp;&nbsp;&nbsp;&nbsp;&nbsp;&nbsp;&nbsp;&nbsp;&nbsp;&nbsp;&nbsp;&nbsp;&nbsp;&nbsp;&nbsp;&nbsp;&nbsp;&nbsp;&nbsp;&nbsp;&nbsp;&nbsp;&nbsp;&nbsp;&nbsp;&nbsp;&nbsp;&nbsp;&nbsp;&nbsp;&nbsp;&nbsp;&nbsp;&nbsp;&nbsp;&nbsp;&nbsp;&nbsp;│&nbsp;&nbsp;&nbsp;&nbsp;&nbsp;&nbsp;&nbsp;├►VP&nbsp;───┘&nbsp;&nbsp;&nbsp;&nbsp;&nbsp;&nbsp;&nbsp;│&nbsp;&nbsp;&nbsp;<br>AD&nbsp;───►ADVP──┐&nbsp;&nbsp;&nbsp;&nbsp;&nbsp;&nbsp;&nbsp;├►VP&nbsp;────►IP&nbsp;───┐&nbsp;&nbsp;&nbsp;&nbsp;&nbsp;&nbsp;&nbsp;&nbsp;&nbsp;&nbsp;&nbsp;&nbsp;&nbsp;&nbsp;&nbsp;&nbsp;&nbsp;&nbsp;&nbsp;&nbsp;&nbsp;&nbsp;&nbsp;&nbsp;&nbsp;&nbsp;&nbsp;&nbsp;&nbsp;&nbsp;&nbsp;│&nbsp;&nbsp;&nbsp;&nbsp;&nbsp;&nbsp;&nbsp;│&nbsp;&nbsp;&nbsp;&nbsp;&nbsp;&nbsp;&nbsp;&nbsp;&nbsp;&nbsp;&nbsp;&nbsp;&nbsp;&nbsp;&nbsp;│&nbsp;&nbsp;&nbsp;<br>VA&nbsp;───►VP&nbsp;───┴►VP&nbsp;───┘&nbsp;&nbsp;&nbsp;&nbsp;&nbsp;&nbsp;&nbsp;&nbsp;&nbsp;&nbsp;&nbsp;&nbsp;&nbsp;&nbsp;&nbsp;├►CP&nbsp;────►CP&nbsp;───┐&nbsp;&nbsp;&nbsp;&nbsp;&nbsp;&nbsp;&nbsp;&nbsp;&nbsp;&nbsp;&nbsp;&nbsp;&nbsp;&nbsp;&nbsp;│&nbsp;&nbsp;&nbsp;&nbsp;&nbsp;&nbsp;&nbsp;│&nbsp;&nbsp;&nbsp;&nbsp;&nbsp;&nbsp;&nbsp;&nbsp;&nbsp;&nbsp;&nbsp;&nbsp;&nbsp;&nbsp;&nbsp;│&nbsp;&nbsp;&nbsp;<br>DEC──────────────────────────────────┘&nbsp;&nbsp;&nbsp;&nbsp;&nbsp;&nbsp;&nbsp;&nbsp;&nbsp;&nbsp;&nbsp;&nbsp;&nbsp;&nbsp;&nbsp;│&nbsp;&nbsp;&nbsp;&nbsp;&nbsp;&nbsp;&nbsp;&nbsp;&nbsp;&nbsp;&nbsp;&nbsp;&nbsp;&nbsp;&nbsp;├►VP&nbsp;───┘&nbsp;&nbsp;&nbsp;&nbsp;&nbsp;&nbsp;&nbsp;&nbsp;&nbsp;&nbsp;&nbsp;&nbsp;&nbsp;&nbsp;&nbsp;│&nbsp;&nbsp;&nbsp;<br>CD&nbsp;───►QP&nbsp;───┐&nbsp;&nbsp;&nbsp;&nbsp;&nbsp;&nbsp;&nbsp;&nbsp;&nbsp;&nbsp;&nbsp;&nbsp;&nbsp;&nbsp;&nbsp;&nbsp;&nbsp;&nbsp;&nbsp;&nbsp;&nbsp;&nbsp;&nbsp;&nbsp;&nbsp;&nbsp;&nbsp;&nbsp;&nbsp;&nbsp;&nbsp;&nbsp;&nbsp;&nbsp;&nbsp;&nbsp;&nbsp;&nbsp;&nbsp;├►NP&nbsp;───┐&nbsp;&nbsp;&nbsp;&nbsp;&nbsp;&nbsp;&nbsp;│&nbsp;&nbsp;&nbsp;&nbsp;&nbsp;&nbsp;&nbsp;&nbsp;&nbsp;&nbsp;&nbsp;&nbsp;&nbsp;&nbsp;&nbsp;&nbsp;&nbsp;&nbsp;&nbsp;&nbsp;&nbsp;&nbsp;&nbsp;│&nbsp;&nbsp;&nbsp;<br>NN&nbsp;───►NP&nbsp;───┴────────────────────────────────►NP&nbsp;───┘&nbsp;&nbsp;&nbsp;&nbsp;&nbsp;&nbsp;&nbsp;│&nbsp;&nbsp;&nbsp;&nbsp;&nbsp;&nbsp;&nbsp;│&nbsp;&nbsp;&nbsp;&nbsp;&nbsp;&nbsp;&nbsp;&nbsp;&nbsp;&nbsp;&nbsp;&nbsp;&nbsp;&nbsp;&nbsp;&nbsp;&nbsp;&nbsp;&nbsp;&nbsp;&nbsp;&nbsp;&nbsp;│&nbsp;&nbsp;&nbsp;<br>NR&nbsp;──┐&nbsp;&nbsp;&nbsp;&nbsp;&nbsp;&nbsp;&nbsp;&nbsp;&nbsp;&nbsp;&nbsp;&nbsp;&nbsp;&nbsp;&nbsp;&nbsp;&nbsp;&nbsp;&nbsp;&nbsp;&nbsp;&nbsp;&nbsp;&nbsp;&nbsp;&nbsp;&nbsp;&nbsp;&nbsp;&nbsp;&nbsp;&nbsp;&nbsp;&nbsp;&nbsp;&nbsp;&nbsp;&nbsp;&nbsp;&nbsp;&nbsp;&nbsp;&nbsp;&nbsp;&nbsp;&nbsp;&nbsp;&nbsp;&nbsp;&nbsp;&nbsp;&nbsp;&nbsp;&nbsp;&nbsp;├►NP&nbsp;───┘&nbsp;&nbsp;&nbsp;&nbsp;&nbsp;&nbsp;&nbsp;&nbsp;&nbsp;&nbsp;&nbsp;&nbsp;&nbsp;&nbsp;&nbsp;&nbsp;&nbsp;&nbsp;&nbsp;&nbsp;&nbsp;&nbsp;&nbsp;│&nbsp;&nbsp;&nbsp;<br>NN&nbsp;──┴────────────────────────────────────────────────►NP&nbsp;───┘&nbsp;&nbsp;&nbsp;&nbsp;&nbsp;&nbsp;&nbsp;&nbsp;&nbsp;&nbsp;&nbsp;&nbsp;&nbsp;&nbsp;&nbsp;&nbsp;&nbsp;&nbsp;&nbsp;&nbsp;&nbsp;&nbsp;&nbsp;&nbsp;&nbsp;&nbsp;&nbsp;&nbsp;&nbsp;&nbsp;&nbsp;│&nbsp;&nbsp;&nbsp;<br>PU&nbsp;──────────────────────────────────────────────────────────────────────────────────────────┼►IP<br>NR&nbsp;───────────────────►NP&nbsp;───┐&nbsp;&nbsp;&nbsp;&nbsp;&nbsp;&nbsp;&nbsp;&nbsp;&nbsp;&nbsp;&nbsp;&nbsp;&nbsp;&nbsp;&nbsp;&nbsp;&nbsp;&nbsp;&nbsp;&nbsp;&nbsp;&nbsp;&nbsp;&nbsp;&nbsp;&nbsp;&nbsp;&nbsp;&nbsp;&nbsp;&nbsp;&nbsp;&nbsp;&nbsp;&nbsp;&nbsp;&nbsp;&nbsp;&nbsp;&nbsp;&nbsp;&nbsp;&nbsp;&nbsp;&nbsp;&nbsp;&nbsp;&nbsp;&nbsp;&nbsp;&nbsp;&nbsp;&nbsp;&nbsp;&nbsp;&nbsp;&nbsp;&nbsp;&nbsp;&nbsp;&nbsp;&nbsp;&nbsp;│&nbsp;&nbsp;&nbsp;<br>VV&nbsp;──────────┐&nbsp;&nbsp;&nbsp;&nbsp;&nbsp;&nbsp;&nbsp;&nbsp;&nbsp;&nbsp;&nbsp;&nbsp;&nbsp;&nbsp;&nbsp;│&nbsp;&nbsp;&nbsp;&nbsp;&nbsp;&nbsp;&nbsp;&nbsp;&nbsp;&nbsp;&nbsp;&nbsp;&nbsp;&nbsp;&nbsp;&nbsp;&nbsp;&nbsp;&nbsp;&nbsp;&nbsp;&nbsp;&nbsp;&nbsp;&nbsp;&nbsp;&nbsp;&nbsp;&nbsp;&nbsp;&nbsp;&nbsp;&nbsp;&nbsp;&nbsp;&nbsp;&nbsp;&nbsp;&nbsp;&nbsp;&nbsp;&nbsp;&nbsp;&nbsp;&nbsp;&nbsp;&nbsp;&nbsp;&nbsp;&nbsp;&nbsp;&nbsp;&nbsp;&nbsp;&nbsp;&nbsp;&nbsp;&nbsp;&nbsp;&nbsp;&nbsp;&nbsp;&nbsp;│&nbsp;&nbsp;&nbsp;<br>NR&nbsp;──┐&nbsp;&nbsp;&nbsp;&nbsp;&nbsp;&nbsp;&nbsp;├►VP&nbsp;───┐&nbsp;&nbsp;&nbsp;&nbsp;&nbsp;&nbsp;&nbsp;├────────────────────────────────────────────────────────►IP────┤&nbsp;&nbsp;&nbsp;<br>NR&nbsp;──┴►NP&nbsp;───┘&nbsp;&nbsp;&nbsp;&nbsp;&nbsp;&nbsp;&nbsp;│&nbsp;&nbsp;&nbsp;&nbsp;&nbsp;&nbsp;&nbsp;│&nbsp;&nbsp;&nbsp;&nbsp;&nbsp;&nbsp;&nbsp;&nbsp;&nbsp;&nbsp;&nbsp;&nbsp;&nbsp;&nbsp;&nbsp;&nbsp;&nbsp;&nbsp;&nbsp;&nbsp;&nbsp;&nbsp;&nbsp;&nbsp;&nbsp;&nbsp;&nbsp;&nbsp;&nbsp;&nbsp;&nbsp;&nbsp;&nbsp;&nbsp;&nbsp;&nbsp;&nbsp;&nbsp;&nbsp;&nbsp;&nbsp;&nbsp;&nbsp;&nbsp;&nbsp;&nbsp;&nbsp;&nbsp;&nbsp;&nbsp;&nbsp;&nbsp;&nbsp;&nbsp;&nbsp;&nbsp;&nbsp;&nbsp;&nbsp;&nbsp;&nbsp;&nbsp;&nbsp;│&nbsp;&nbsp;&nbsp;<br>VV&nbsp;──────────┐&nbsp;&nbsp;&nbsp;&nbsp;&nbsp;&nbsp;&nbsp;├►VP&nbsp;───┘&nbsp;&nbsp;&nbsp;&nbsp;&nbsp;&nbsp;&nbsp;&nbsp;&nbsp;&nbsp;&nbsp;&nbsp;&nbsp;&nbsp;&nbsp;&nbsp;&nbsp;&nbsp;&nbsp;&nbsp;&nbsp;&nbsp;&nbsp;&nbsp;&nbsp;&nbsp;&nbsp;&nbsp;&nbsp;&nbsp;&nbsp;&nbsp;&nbsp;&nbsp;&nbsp;&nbsp;&nbsp;&nbsp;&nbsp;&nbsp;&nbsp;&nbsp;&nbsp;&nbsp;&nbsp;&nbsp;&nbsp;&nbsp;&nbsp;&nbsp;&nbsp;&nbsp;&nbsp;&nbsp;&nbsp;&nbsp;&nbsp;&nbsp;&nbsp;&nbsp;&nbsp;&nbsp;&nbsp;│&nbsp;&nbsp;&nbsp;<br>NN&nbsp;──┐&nbsp;&nbsp;&nbsp;&nbsp;&nbsp;&nbsp;&nbsp;│&nbsp;&nbsp;&nbsp;&nbsp;&nbsp;&nbsp;&nbsp;│&nbsp;&nbsp;&nbsp;&nbsp;&nbsp;&nbsp;&nbsp;&nbsp;&nbsp;&nbsp;&nbsp;&nbsp;&nbsp;&nbsp;&nbsp;&nbsp;&nbsp;&nbsp;&nbsp;&nbsp;&nbsp;&nbsp;&nbsp;&nbsp;&nbsp;&nbsp;&nbsp;&nbsp;&nbsp;&nbsp;&nbsp;&nbsp;&nbsp;&nbsp;&nbsp;&nbsp;&nbsp;&nbsp;&nbsp;&nbsp;&nbsp;&nbsp;&nbsp;&nbsp;&nbsp;&nbsp;&nbsp;&nbsp;&nbsp;&nbsp;&nbsp;&nbsp;&nbsp;&nbsp;&nbsp;&nbsp;&nbsp;&nbsp;&nbsp;&nbsp;&nbsp;&nbsp;&nbsp;&nbsp;&nbsp;&nbsp;&nbsp;&nbsp;&nbsp;&nbsp;&nbsp;│&nbsp;&nbsp;&nbsp;<br>NN&nbsp;&nbsp;&nbsp;│&nbsp;&nbsp;&nbsp;&nbsp;&nbsp;&nbsp;&nbsp;├►VP&nbsp;───┘&nbsp;&nbsp;&nbsp;&nbsp;&nbsp;&nbsp;&nbsp;&nbsp;&nbsp;&nbsp;&nbsp;&nbsp;&nbsp;&nbsp;&nbsp;&nbsp;&nbsp;&nbsp;&nbsp;&nbsp;&nbsp;&nbsp;&nbsp;&nbsp;&nbsp;&nbsp;&nbsp;&nbsp;&nbsp;&nbsp;&nbsp;&nbsp;&nbsp;&nbsp;&nbsp;&nbsp;&nbsp;&nbsp;&nbsp;&nbsp;&nbsp;&nbsp;&nbsp;&nbsp;&nbsp;&nbsp;&nbsp;&nbsp;&nbsp;&nbsp;&nbsp;&nbsp;&nbsp;&nbsp;&nbsp;&nbsp;&nbsp;&nbsp;&nbsp;&nbsp;&nbsp;&nbsp;&nbsp;&nbsp;&nbsp;&nbsp;&nbsp;&nbsp;&nbsp;&nbsp;&nbsp;│&nbsp;&nbsp;&nbsp;<br>NN&nbsp;&nbsp;&nbsp;├►NP&nbsp;───┘&nbsp;&nbsp;&nbsp;&nbsp;&nbsp;&nbsp;&nbsp;&nbsp;&nbsp;&nbsp;&nbsp;&nbsp;&nbsp;&nbsp;&nbsp;&nbsp;&nbsp;&nbsp;&nbsp;&nbsp;&nbsp;&nbsp;&nbsp;&nbsp;&nbsp;&nbsp;&nbsp;&nbsp;&nbsp;&nbsp;&nbsp;&nbsp;&nbsp;&nbsp;&nbsp;&nbsp;&nbsp;&nbsp;&nbsp;&nbsp;&nbsp;&nbsp;&nbsp;&nbsp;&nbsp;&nbsp;&nbsp;&nbsp;&nbsp;&nbsp;&nbsp;&nbsp;&nbsp;&nbsp;&nbsp;&nbsp;&nbsp;&nbsp;&nbsp;&nbsp;&nbsp;&nbsp;&nbsp;&nbsp;&nbsp;&nbsp;&nbsp;&nbsp;&nbsp;&nbsp;&nbsp;&nbsp;&nbsp;&nbsp;&nbsp;&nbsp;&nbsp;&nbsp;&nbsp;│&nbsp;&nbsp;&nbsp;<br>NN&nbsp;──┘&nbsp;&nbsp;&nbsp;&nbsp;&nbsp;&nbsp;&nbsp;&nbsp;&nbsp;&nbsp;&nbsp;&nbsp;&nbsp;&nbsp;&nbsp;&nbsp;&nbsp;&nbsp;&nbsp;&nbsp;&nbsp;&nbsp;&nbsp;&nbsp;&nbsp;&nbsp;&nbsp;&nbsp;&nbsp;&nbsp;&nbsp;&nbsp;&nbsp;&nbsp;&nbsp;&nbsp;&nbsp;&nbsp;&nbsp;&nbsp;&nbsp;&nbsp;&nbsp;&nbsp;&nbsp;&nbsp;&nbsp;&nbsp;&nbsp;&nbsp;&nbsp;&nbsp;&nbsp;&nbsp;&nbsp;&nbsp;&nbsp;&nbsp;&nbsp;&nbsp;&nbsp;&nbsp;&nbsp;&nbsp;&nbsp;&nbsp;&nbsp;&nbsp;&nbsp;&nbsp;&nbsp;&nbsp;&nbsp;&nbsp;&nbsp;&nbsp;&nbsp;&nbsp;&nbsp;&nbsp;&nbsp;&nbsp;&nbsp;&nbsp;&nbsp;&nbsp;&nbsp;│&nbsp;&nbsp;&nbsp;<br>PU&nbsp;──────────────────────────────────────────────────────────────────────────────────────────┘&nbsp;&nbsp;&nbsp;</pre></div>"
      ],
      "text/plain": [
       "<IPython.core.display.HTML object>"
      ]
     },
     "metadata": {},
     "output_type": "display_data"
    }
   ],
   "source": [
    "HanLP_MTL('2021年HanLPv2.1为生产环境带来次世代最先进的多语种NLP技术。晓美焰来到北京立方庭参观自然语义科技公司。').pretty_print()\n",
    "# HanLP_NER('2021年HanLPv2.1为生产环境带来次世代最先进的多语种NLP技术。晓美焰来到北京立方庭参观自然语义科技公司。')\n",
    "# HanLP_NER(['晓美焰', '来到', '北京', '立方庭', '参观', '自然', '语义', '科技', '公司', '。'])"
   ]
  },
  {
   "cell_type": "markdown",
   "metadata": {},
   "source": [
    "## Character Dict\n",
    "### Based on `chars.dict.yaml`"
   ]
  },
  {
   "cell_type": "code",
   "execution_count": 4,
   "metadata": {},
   "outputs": [
    {
     "name": "stderr",
     "output_type": "stream",
     "text": [
      "45950it [00:00, 246540.08it/s]\n"
     ]
    },
    {
     "name": "stdout",
     "output_type": "stream",
     "text": [
      "Lines 27050,45949: 鍾 has codes jv and jp\n"
     ]
    },
    {
     "name": "stderr",
     "output_type": "stream",
     "text": [
      "45950it [00:00, 160325.65it/s]\n"
     ]
    }
   ],
   "source": [
    "# LOAD CHARACTER DICT \n",
    "\n",
    "filename = \"./dicts/udpn/chars.dict.yaml\"\n",
    "\n",
    "char2scode = {}\n",
    "line_num_dict = {}\n",
    "\n",
    "chardict = CharDict()\n",
    "\n",
    "\n",
    "with open(filename, \"r\", encoding=\"UTF-8\") as infile:\n",
    "    for i, line in tqdm.tqdm(enumerate(infile.readlines())):\n",
    "        if not '[' in line:\n",
    "            continue\n",
    "        \n",
    "        if '#' in line:\n",
    "            line = line.split('#')[0].strip()\n",
    "            if len(line) == 0:\n",
    "                continue\n",
    "        \n",
    "        char = cc.convert(line.split()[0])\n",
    "        pron = line.split()[1][:2]\n",
    "        code = line.split()[1][3:]\n",
    "\n",
    "        if char not in line_num_dict:\n",
    "            line_num_dict[char] = [i + 1]\n",
    "        else:\n",
    "            line_num_dict[char].append(i + 1)\n",
    "        \n",
    "        if char in char2scode.keys() and char2scode[char] != code:\n",
    "            if char2scode[char] == \"[\":\n",
    "                char2scode[char] = code\n",
    "            elif code == \"[\":\n",
    "                pass\n",
    "            else:\n",
    "                print(f\"Lines {','.join(str(x) for x in line_num_dict[char])}: {char} has codes {char2scode[char]} and {code}\")\n",
    "            # print(f\"Lines {','.join(str(x) for x in line_num_dict[char])}: {char} has codes {char_dict[char]} and {code}\")\n",
    "        else:\n",
    "            char2scode[char] = code\n",
    "\n",
    "    char2scode[\"乾\"] = \"ur\"\n",
    "\n",
    "    # write full line dict in a 2nd iter, keeping correct codes\n",
    "\n",
    "with open(filename, \"r\", encoding=\"UTF-8\") as infile:\n",
    "    for i, line in tqdm.tqdm(enumerate(infile.readlines())):\n",
    "        if not '[' in line:\n",
    "            continue\n",
    "\n",
    "        if '#' in line:\n",
    "            line = line.split('#')[0].strip()\n",
    "            if len(line) == 0:\n",
    "                continue\n",
    "\n",
    "        char = cc.convert(line.split()[0])\n",
    "        pron = line.split()[1][:2]\n",
    "        weight = int(line.split()[2]) # Load already weighted dict\n",
    "\n",
    "        \n",
    "        if char not in chardict:\n",
    "            chardict[char] = []\n",
    "\n",
    "        chardict[char].append(CharInfo(pron, char2scode[char], weight))\n",
    "\n",
    "chardict.SortWeight()\n"
   ]
  },
  {
   "cell_type": "code",
   "execution_count": 5,
   "metadata": {},
   "outputs": [
    {
     "name": "stdout",
     "output_type": "stream",
     "text": [
      "qm[ur 67122\n",
      "gj[ur 0\n",
      "煙燻\n"
     ]
    }
   ],
   "source": [
    "\n",
    "print(*chardict[\"乾\"], sep='\\n')\n",
    "print(cc.convert(\"烟熏\"))\n",
    "\n",
    "\n",
    "# 乾 has codes hu and ur\n",
    "# 谘\tzi[yd\n",
    "# 薰 has codes pd and cp\n",
    "# 锺\tvs[jp\n",
    "# 鲶\tnm[yr"
   ]
  },
  {
   "cell_type": "code",
   "execution_count": 7,
   "metadata": {},
   "outputs": [],
   "source": [
    "import re\n",
    "\n",
    "def qp2udpn(char):\n",
    "    assert(len(char.split()) == 1)\n",
    "\n",
    "    char = re.sub(r\"sh\", r\"U\", char)\n",
    "    char = re.sub(r\"ch\", r\"I\", char)\n",
    "    char = re.sub(r\"zh\", r\"V\", char)\n",
    "    \n",
    "    char = re.sub(r\"(\\w)[iu]ang\\b\", r\"\\1D\", char)\n",
    "    char = re.sub(r\"(\\w)i?ong\\b\", r\"\\1S\", char)\n",
    "    char = re.sub(r\"(\\w)iao\\b\", r\"\\1C\", char)\n",
    "    char = re.sub(r\"(\\w)ian\\b\", r\"\\1M\", char)\n",
    "    char = re.sub(r\"(\\w)eng\\b\", r\"\\1G\", char)\n",
    "    char = re.sub(r\"(\\w)ang\\b\", r\"\\1H\", char)\n",
    "    char = re.sub(r\"(\\w)ing\\b\", r\"\\1;\", char)\n",
    "    char = re.sub(r\"(\\w)uan\\b\", r\"\\1R\", char)\n",
    "    char = re.sub(r\"(\\w)uai\\b\", r\"\\1Y\", char)\n",
    "    char = re.sub(r\"(\\w)iu\\b\", r\"\\1Q\", char)\n",
    "    char = re.sub(r\"(\\w)er\\b\", r\"\\1R\", char)\n",
    "    char = re.sub(r\"(\\w)uo\\b\", r\"\\1O\", char)\n",
    "    char = re.sub(r\"(\\w)un\\b\", r\"\\1P\", char)\n",
    "    char = re.sub(r\"(\\w)en\\b\", r\"\\1F\", char)\n",
    "    char = re.sub(r\"(\\w)an\\b\", r\"\\1J\", char)\n",
    "    char = re.sub(r\"(\\w)ao\\b\", r\"\\1K\", char)\n",
    "    char = re.sub(r\"(\\w)ai\\b\", r\"\\1L\", char)\n",
    "    char = re.sub(r\"(\\w)ei\\b\", r\"\\1Z\", char)\n",
    "    char = re.sub(r\"(\\w)ie\\b\", r\"\\1X\", char)\n",
    "    char = re.sub(r\"(\\w)ui\\b\", r\"\\1V\", char)\n",
    "    char = re.sub(r\"(\\w)ou\\b\", r\"\\1B\", char)\n",
    "    char = re.sub(r\"(\\w)in\\b\", r\"\\1N\", char)\n",
    "    char = re.sub(r\"(\\w)v\\b\", r\"\\1Y\", char)\n",
    "    char = re.sub(r\"(\\w)[iu]a\\b\", r\"\\1W\", char)\n",
    "    char = re.sub(r\"(\\w)[uv]e\\b\", r\"\\1T\", char)\n",
    "\n",
    "    char = re.sub(r\"(\\b)ai\\b\", r\"OL\", char)\n",
    "    char = re.sub(r\"(\\b)an\\b\", r\"OJ\", char)\n",
    "    char = re.sub(r\"(\\b)ang\\b\", r\"OH\", char)\n",
    "    char = re.sub(r\"(\\b)ao\\b\", r\"OK\", char)\n",
    "    char = re.sub(r\"(\\b)ei\\b\", r\"OZ\", char)\n",
    "    char = re.sub(r\"(\\b)en\\b\", r\"OF\", char)\n",
    "    char = re.sub(r\"(\\b)er\\b\", r\"OR\", char)\n",
    "    char = re.sub(r\"(\\b)ou\\b\", r\"OB\", char)\n",
    "    char = re.sub(r\"(\\b)eng\\b\", r\"OG\", char)\n",
    "\n",
    "    # char = re.sub(r\"(\\w)a\", r\"\\1A\", char)\n",
    "    # char = re.sub(r\"(\\w)E\", r\"\\1E\", char)\n",
    "    # char = re.sub(r\"(\\w)O\", r\"\\1O\", char)\n",
    "\n",
    "    char = re.sub(r\"(\\b)a\\b\", r\"OA\", char)\n",
    "    char = re.sub(r\"(\\b)e\\b\", r\"OE\", char)\n",
    "    char = re.sub(r\"(\\b)o\\b\", r\"OO\", char)\n",
    "\n",
    "    return char.lower()\n",
    "\n",
    "\n",
    "def qp2udpn_code(word, quanpin):\n",
    "    word = cc.convert(word)\n",
    "    codes = []\n",
    "    for i, char in enumerate(quanpin.split()):\n",
    "        udpn = qp2udpn(char)        \n",
    "        codes.append(udpn + '[' + char2scode[word[i]])\n",
    "    \n",
    "    return ' '.join(codes)\n",
    "\n",
    "def xche2msup(char):\n",
    "    assert(len(char.split()) == 1)\n",
    "    char = re.sub(r\"(\\w)w\\b\", r\"\\1Z\", char)\n",
    "    char = re.sub(r\"(\\w)y\\b\", r\"\\1P\", char)\n",
    "    char = re.sub(r\"(\\w)p\\b\", r\"\\1X\", char)\n",
    "    char = re.sub(r\"(\\w)d\\b\", r\"\\1L\", char)\n",
    "    char = re.sub(r\"([gkhvuirzcs])k\", r\"\\1Y\", char)\n",
    "    char = re.sub(r\"(\\w)k\\b\", r\"\\1;\", char)\n",
    "    char = re.sub(r\"(\\w)l\\b\", r\"\\1D\", char)\n",
    "    char = re.sub(r\"(\\w)z\\b\", r\"\\1B\", char)\n",
    "    char = re.sub(r\"(\\w)x\\b\", r\"\\1W\", char)\n",
    "    char = re.sub(r\"(\\w)c\\b\", r\"\\1K\", char)\n",
    "    char = re.sub(r\"([^aeiou])n\", r\"\\1C\", char)\n",
    "    char = re.sub(r\"(\\w)b\\b\", r\"\\1N\", char)\n",
    "    char = re.sub(r\"([nl])v\\b\", r\"\\1Y\", char)\n",
    "\n",
    "    char = re.sub(r\"(\\b)ai\\b\", r\"OL\", char)\n",
    "    char = re.sub(r\"(\\b)an\\b\", r\"OJ\", char)\n",
    "    char = re.sub(r\"(\\b)ah\\b\", r\"OH\", char)\n",
    "    char = re.sub(r\"(\\b)ao\\b\", r\"OK\", char)\n",
    "    char = re.sub(r\"(\\b)ei\\b\", r\"OZ\", char)\n",
    "    char = re.sub(r\"(\\b)en\\b\", r\"OF\", char)\n",
    "    char = re.sub(r\"(\\b)er\\b\", r\"OR\", char)\n",
    "    char = re.sub(r\"(\\b)ou\\b\", r\"OB\", char)\n",
    "    char = re.sub(r\"(\\b)aa\\b\", r\"OA\", char)\n",
    "    char = re.sub(r\"(\\b)ee\\b\", r\"OE\", char)\n",
    "    return char.lower()\n",
    "\n",
    "\n",
    "def udpn2qp(char):\n",
    "    assert(len(char.split()) == 1)\n",
    "    char = char.upper()\n",
    "\n",
    "    char = re.sub(r\";\", r\"ing\", char)\n",
    "    \n",
    "    char = re.sub(r\"OL\\b\", r\"ai\", char)\n",
    "    char = re.sub(r\"OJ\\b\", r\"an\", char)\n",
    "    char = re.sub(r\"OH\\b\", r\"ang\", char)\n",
    "    char = re.sub(r\"OK\\b\", r\"ao\", char)\n",
    "    char = re.sub(r\"OZ\\b\", r\"ei\", char)\n",
    "    char = re.sub(r\"OF\\b\", r\"en\", char)\n",
    "    char = re.sub(r\"OR\\b\", r\"er\", char)\n",
    "    char = re.sub(r\"OB\\b\", r\"ou\", char)\n",
    "    char = re.sub(r\"OG\\b\", r\"eng\", char)\n",
    "    char = re.sub(r\"OA\\b\", r\"a\", char)\n",
    "    char = re.sub(r\"OE\\b\", r\"e\", char)\n",
    "    char = re.sub(r\"OO\\b\", r\"o\", char)\n",
    "\n",
    "    \n",
    "    char = re.sub(r\"([NLJQX])D\\b\", r\"\\1iang\", char)\n",
    "    char = re.sub(r\"(\\w)D\\b\", r\"\\1uang\", char)\n",
    "    char = re.sub(r\"([JQX])S\\b\", r\"\\1iong\", char)\n",
    "    char = re.sub(r\"(\\w)S\\b\", r\"\\1ong\", char)\n",
    "\n",
    "    char = re.sub(r\"(\\w)C\\b\", r\"\\1iao\", char)\n",
    "    char = re.sub(r\"(\\w)M\\b\", r\"\\1ian\", char)\n",
    "    char = re.sub(r\"(\\w)G\\b\", r\"\\1eng\", char)\n",
    "    char = re.sub(r\"(\\w)H\\b\", r\"\\1ang\", char)\n",
    "    char = re.sub(r\"(\\w)R\\b\", r\"\\1uan\", char)\n",
    "    ######################\n",
    "    char = re.sub(r\"([NL])Y\\b\", r\"\\1v\", char)\n",
    "    char = re.sub(r\"(\\w)Y\\b\", r\"\\1uai\", char)\n",
    "    ######################\n",
    "    char = re.sub(r\"(\\w)Q\\b\", r\"\\1iu\", char)\n",
    "    char = re.sub(r\"([^WYBPMF])O\\b\", r\"\\1uo\", char) # except 咯 啰 \n",
    "    char = re.sub(r\"(\\w)P\\b\", r\"\\1un\", char)\n",
    "    char = re.sub(r\"(\\w)F\\b\", r\"\\1en\", char)\n",
    "    char = re.sub(r\"(\\w)J\\b\", r\"\\1an\", char)\n",
    "    char = re.sub(r\"(\\w)K\\b\", r\"\\1ao\", char)\n",
    "    char = re.sub(r\"(\\w)L\\b\", r\"\\1ai\", char)\n",
    "    char = re.sub(r\"(\\w)Z\\b\", r\"\\1ei\", char)\n",
    "    char = re.sub(r\"(\\w)X\\b\", r\"\\1ie\", char)\n",
    "    char = re.sub(r\"(\\w)V\\b\", r\"\\1ui\", char)\n",
    "    char = re.sub(r\"(\\w)B\\b\", r\"\\1ou\", char)\n",
    "    char = re.sub(r\"(\\w)N\\b\", r\"\\1in\", char)\n",
    "\n",
    "    #################\n",
    "    char = re.sub(r\"([GKHVIU])W\\b\", r\"\\1ua\", char)\n",
    "    char = re.sub(r\"(\\w)W\\b\", r\"\\1ia\", char)\n",
    "    #################\n",
    "    char = re.sub(r\"([NL])T\\b\", r\"\\1ve\", char)\n",
    "    char = re.sub(r\"(\\w)T\\b\", r\"\\1ue\", char)\n",
    "    #################\n",
    "\n",
    "\n",
    "    char = re.sub(r\"U(\\w)\", r\"sh\\1\", char)\n",
    "    char = re.sub(r\"I(\\w)\", r\"ch\\1\", char)\n",
    "    char = re.sub(r\"V(\\w)\", r\"zh\\1\", char)\n",
    "\n",
    "    # char = re.sub(r\"(\\w)a\", r\"\\1A\", char)\n",
    "    # char = re.sub(r\"(\\w)E\", r\"\\1E\", char)\n",
    "    # char = re.sub(r\"(\\w)O\", r\"\\1O\", char)\n",
    "\n",
    "    return char.lower()\n"
   ]
  },
  {
   "cell_type": "code",
   "execution_count": 8,
   "metadata": {},
   "outputs": [
    {
     "name": "stdout",
     "output_type": "stream",
     "text": [
      "qm[sq\n",
      "vy[fo bm[yy\n",
      "oo\n",
      "of\n",
      "wz\n",
      "jing\n"
     ]
    }
   ],
   "source": [
    "print(qp2udpn_code(\"纤\", \"qian\"))\n",
    "print(qp2udpn_code(\"拽变\", \"zhuai bian\\n\"))\n",
    "print(xche2msup(\"oo\"))\n",
    "print(xche2msup(\"en\"))\n",
    "print(xche2msup(\"ww\"))\n",
    "print(udpn2qp(\"j;\"))"
   ]
  },
  {
   "cell_type": "markdown",
   "metadata": {},
   "source": [
    "## Deprecated: 加载小鹤 weight "
   ]
  },
  {
   "cell_type": "code",
   "execution_count": 6,
   "metadata": {},
   "outputs": [],
   "source": [
    "\n",
    "def load_xche_weights():\n",
    "    xche_weights = {}\n",
    "\n",
    "    with open(\"./dicts/udpn/intermediates/edited_xche_cipn.txt\", \"r\", encoding=\"UTF-8\") as infile:\n",
    "        lines = infile.readlines()\n",
    "        for line in lines:\n",
    "            line = line.strip()\n",
    "            components = line.split()\n",
    "            word = components[0]\n",
    "            weight = int(components[1])\n",
    "            if word in xche_weights:\n",
    "                print(f\"ERROR: {word}-{xche_weights[word]} collides with {word}-{weight}\")\n",
    "            else:\n",
    "                xche_weights[word] = weight\n",
    "    return xche_weights"
   ]
  },
  {
   "cell_type": "markdown",
   "metadata": {},
   "source": [
    "## Load dicts (yaml re-editing, txt...)"
   ]
  },
  {
   "cell_type": "code",
   "execution_count": 9,
   "metadata": {},
   "outputs": [],
   "source": [
    "from enum import Enum\n",
    "\n",
    "def MakeWord(word, prons=None, weight=None, twice_converted=False, suspicious_pron=False):\n",
    "    charinfos = [deepcopy(chardict[char][0]) for char in word]\n",
    "    return WordInfo(word, charinfos, prons, weight, twice_converted, suspicious_pron)\n",
    "\n",
    "def HaveWordInfo(word):\n",
    "    for char in word:\n",
    "        if char not in chardict:\n",
    "            return False\n",
    "    return True\n",
    "\n",
    "class DictType(Enum): # TR = Traditional, SM = Simplified\n",
    "    UDPN_SCODE_TR = 0\n",
    "    QUANPIN_TR = 1\n",
    "    WORDS_ONLY_SM = 2\n",
    "    WORDS_WEIGHT_SM = 3\n",
    "    XCHE_BIGRAMS_SM = 4\n",
    "\n",
    "worddict = WordDict()\n"
   ]
  },
  {
   "cell_type": "markdown",
   "metadata": {},
   "source": [
    "### Dict Filters"
   ]
  },
  {
   "cell_type": "code",
   "execution_count": 77,
   "metadata": {},
   "outputs": [],
   "source": [
    "def LengthFilter(min_length, max_length):\n",
    "    return lambda word: len(word) >= min_length and len(word) <= max_length\n",
    "\n",
    "def ContainsSubStringFilter(sub_string, starting_positions=[]):\n",
    "    if isinstance(starting_positions, int):\n",
    "        starting_positions = [starting_positions]\n",
    "    if starting_positions is None or len(starting_positions) == 0:\n",
    "        return lambda word: sub_string in word\n",
    "    else:\n",
    "        return lambda word: any(word[i:].startswith(sub_string) if i >= 0 else word[:i].endswith(sub_string) for i in starting_positions)\n",
    "\n",
    "def IsInDictFilter(worddict, start, end):\n",
    "    return lambda word: word[start:end] in worddict\n",
    "\n",
    "def SameCharFilter(positions):\n",
    "    return lambda word: all(word[i] == word[positions[0]] for i in positions)\n",
    "\n",
    "# def MaxNumFilter(max_num):\n",
    "#     return lambda word, count=[0]: (count.append(count.pop() + 1), count[0] <= max_num)[1]\n",
    "\n",
    "def MaxNumFilter(max_num):\n",
    "    counter = {'count': 0}  # Using a mutable dictionary to store the count\n",
    "    return lambda word: (True if counter['count'] < max_num else False, counter.update({'count': counter['count'] + 1}))[0]\n",
    "\n",
    "def IsNameFilter():\n",
    "    return lambda word: (len((result:=HanLP_MTL(word))[\"ner/msra\"]) > 0 and \"PERSON\" in result[\"ner/msra\"][0])\n",
    "\n",
    "def MultipleWordsFilter():\n",
    "    return lambda word: (len((result:=HanLP_MTL(word))[\"tok/fine\"]) > 1)\n",
    "\n",
    "def NotNameFilter():\n",
    "    return lambda word: not (len((result:=HanLP_MTL(word))[\"ner/msra\"]) > 0 and \"PERSON\" in result[\"ner/msra\"][0])\n",
    "\n",
    "def MultipleWordsAndNotNameFilter():\n",
    "    return lambda word: (len((result:=HanLP_MTL(word))[\"tok/fine\"]) > 1) and not (len(result[\"ner/msra\"]) > 0 and \"PERSON\" in result[\"ner/msra\"][0])\n",
    "\n",
    "def SingleWordAndNotNameFilter():\n",
    "    return lambda word: (len((result:=HanLP_MTL(word))[\"tok/fine\"]) == 1) and not (len(result[\"ner/msra\"]) > 0 and \"PERSON\" in result[\"ner/msra\"][0])\n",
    "\n",
    "\n",
    "#######################################################################\n",
    "def ApplyFilters(word, all_filters, any_filters):\n",
    "    return all(f(word) for f in all_filters) if len(all_filters) > 0 else True and any(f(word) for f in any_filters) if len(any_filters) > 0 else True\n",
    "\n",
    "# all_filters = [LengthFilter(3, 3), MaxNumFilter(1000), IsNameFilter()]\n",
    "all_filters = [LengthFilter(3, 3), NotNameFilter()]\n",
    "# all_filters = []\n",
    "# any_filters = [ContainsSubStringFilter(\"不\"), SameCharFilter([0, 2])]\n",
    "# any_filters = [IsInDictFilter(worddict, 0, 2)]\n",
    "any_filters = []"
   ]
  },
  {
   "cell_type": "code",
   "execution_count": 18,
   "metadata": {},
   "outputs": [
    {
     "name": "stdout",
     "output_type": "stream",
     "text": [
      "True\n",
      "True\n",
      "True\n",
      "True\n",
      "True\n",
      "False\n",
      "False\n"
     ]
    }
   ],
   "source": []
  },
  {
   "cell_type": "code",
   "execution_count": 26,
   "metadata": {},
   "outputs": [],
   "source": [
    "\n",
    "def LoadDict(filename, filetype, target_dict, ref_dict, apply_filters=False):\n",
    "    with open(filename, \"r\", encoding=\"UTF-8\") as infile:\n",
    "        for i, line in tqdm.tqdm(enumerate(infile.readlines())):\n",
    "            line = line.strip()\n",
    "            if filetype == DictType.UDPN_SCODE_TR:\n",
    "                if not '[' in line:\n",
    "                    continue\n",
    "                components = line.split('\\t')\n",
    "                word_ori = components[0] \n",
    "                word_tr = word_ori # assume already traditional chinese\n",
    "                prons_scode = components[1]\n",
    "                weight = int(components[2])\n",
    "                prons = [x[:2] for x in prons_scode.split()]\n",
    "\n",
    "            if filetype == DictType.QUANPIN_TR:\n",
    "                if not '[' in line:\n",
    "                    continue\n",
    "                components = line.split('\\t')\n",
    "                word_ori = components[0] \n",
    "                word_tr = word_ori # assume already traditional chinese\n",
    "                prons_scode = components[1]\n",
    "                weight = int(components[2])\n",
    "                prons = [x[:x.find('[')] for x in prons_scode.split()]\n",
    "\n",
    "            elif filetype == DictType.WORDS_ONLY_SM:\n",
    "                if len(line) == 0:\n",
    "                    continue\n",
    "                word_ori = line.split('\\t')\n",
    "                word_tr = cc.convert(word_ori)\n",
    "                # prons = [qp2udpn(x) for x in lazy_pinyin(word_ori)] # lazy_pinyin may mistake traditional Chinese\n",
    "                prons = lazy_pinyin(word_ori) # lazy_pinyin may mistake traditional Chinese\n",
    "                if \"佛\" in word_ori and \"fu\" in prons:\n",
    "                    prons[prons.index(\"fu\")] = \"fo\"\n",
    "                weight = 1\n",
    "                \n",
    "            elif filetype == DictType.WORDS_WEIGHT_SM:\n",
    "                if len(line) == 0:\n",
    "                    continue\n",
    "                components = line.split('\\t')\n",
    "                word_ori = components[0] \n",
    "                word_tr = cc.convert(word_ori) \n",
    "                prons = [qp2udpn(x) for x in lazy_pinyin(word_ori)] # lazy_pinyin may mistake traditional Chinese\n",
    "                if \"佛\" in word_ori and \"fu\" in prons:\n",
    "                    prons[prons.index(\"fu\")] = \"fo\"\n",
    "                weight = int(components[1])\n",
    "\n",
    "            elif filetype == DictType.XCHE_BIGRAMS_SM:\n",
    "                if len(line) == 0:\n",
    "                    continue\n",
    "                components = line.split('\\t')\n",
    "                word_ori = components[0] \n",
    "                word_tr = cc.convert(components[0]) \n",
    "                prons = [qp2udpn(x) for x in lazy_pinyin(word_ori)] # lazy_pinyin may mistake traditional Chinese\n",
    "                if \"佛\" in word_ori and \"fu\" in prons:\n",
    "                    prons[prons.index(\"fu\")] = \"fo\"\n",
    "                # prons = components[1].split()\n",
    "                weight = xche_weights[word_ori]\n",
    "\n",
    "            # Apply filters\n",
    "            if apply_filters and not ApplyFilters(word_tr, all_filters, any_filters):\n",
    "                continue\n",
    "\n",
    "            # Check for identical entries and suspicious prons generated by lazy_pinyin\n",
    "            flag_suspicious_pron = False\n",
    "            if word_tr in ref_dict or word_tr in target_dict:\n",
    "                flag_same_entry = False\n",
    "                entries = (ref_dict[word_tr] if word_tr in ref_dict else []) + (target_dict[word_tr] if word_tr in target_dict else [])\n",
    "                for entry in entries:\n",
    "                    if ' '.join(entry.GetPron()) == ' '.join(prons):\n",
    "                        # print(f\"Same entry: {word}, {' '.join(entry.GetPron())} with {' '.join(prons)}\")\n",
    "                        flag_same_entry = True\n",
    "                if flag_same_entry:\n",
    "                    continue\n",
    "                else:\n",
    "                    # Different pron for same word, mark suspicious if pron is auto-gen-ed.\n",
    "                    if filetype == DictType.WORDS_ONLY_SM or filetype == DictType.WORDS_WEIGHT_SM or filetype == DictType.XCHE_BIGRAMS_SM:\n",
    "                        flag_suspicious_pron = True\n",
    "\n",
    "\n",
    "                    \n",
    "            if HaveWordInfo(word_tr):\n",
    "                if word_tr not in target_dict:\n",
    "                    target_dict[word_tr] = []\n",
    "                target_dict[word_tr].append(MakeWord(word_tr, prons, weight, suspicious_pron=flag_suspicious_pron))\n",
    "            else:\n",
    "                char_by_char = ''.join([cc.convert(x) for x in word_tr])\n",
    "                if HaveWordInfo(char_by_char):\n",
    "                    if word_tr not in target_dict:\n",
    "                        target_dict[word_tr] = []\n",
    "                    target_dict[word_tr].append(MakeWord(char_by_char, prons, weight, twice_converted=True, suspicious_pron=flag_suspicious_pron))\n",
    "                else:\n",
    "                    print(f\"ERROR: no word info for {word_ori}, {word_tr}, {char_by_char}.\")\n",
    "    target_dict.SortWeightPron()\n",
    "\n",
    "\n",
    "def PrintDict(word_dict, outfilename, quanpin=False):\n",
    "    result = sorted(word_dict.items(), key = lambda x: '0' if x[1][0].suspicious_pron else '1' + str(len(x[0])) + ' '.join(word_dict.GetPrimaryPron(x[0])))\n",
    "    with open(outfilename, \"w\", encoding=\"UTF-8\") as outfile:\n",
    "        for word, wordinfos in result:\n",
    "            # print(word)\n",
    "            for wordinfo in wordinfos:\n",
    "                if quanpin:\n",
    "                    for char in wordinfo.chars:\n",
    "                        char.pron = udpn2qp(char.pron)\n",
    "                everything = [word, ' '.join([char.pron + '[' + char.scode for char in wordinfo.chars]), str(wordinfo.weight), \\\n",
    "                              \" # CONVERTED TWICE\" if wordinfo.twice_converted else None, \\\n",
    "                              \" # SUSPICIOUS AUTO-GEN PRON\" if wordinfo.suspicious_pron else None]\n",
    "                everything = [x for x in everything if x is not None]\n",
    "                # print(everything)\n",
    "                outline = '\\t'.join(everything) + '\\n'\n",
    "                outfile.writelines(outline)\n",
    "\n"
   ]
  },
  {
   "cell_type": "code",
   "execution_count": 45,
   "metadata": {},
   "outputs": [
    {
     "name": "stderr",
     "output_type": "stream",
     "text": [
      "229613it [00:01, 228685.67it/s]\n"
     ]
    }
   ],
   "source": [
    "\n",
    "outfilename = \"./dicts/udpn/test_out.dict.yaml\"\n",
    "\n",
    "LoadDict(\"./dicts/udpn/words.dict.yaml\", DictType.UDPN_SCODE_TR, worddict, worddict, apply_filters=False)\n",
    "\n",
    "# LoadDict(\"./dicts/udpn/udpn_simp-ext.dict.yaml\", DictType.UDPN_SCODE_TR, worddict, worddict)\n",
    "# LoadDict(\"./dicts/udpn/v2/udpn_pure_same_base.dict.yaml\", DictType.UDPN_SCODE_TR, worddict, worddict)\n",
    "# LoadDict(\"./dicts/udpn/v2/udpn_base_diff.dict.yaml\", DictType.UDPN_SCODE_TR, worddict, worddict)\n",
    "# LoadDict(\"./dicts/udpn/intermediates/comment_fault_save/z5_n-of_new_base.dict.yaml\", DictType.UDPN_SCODE_TR, worddict, worddict)\n",
    "# LoadDict(\"./dicts/udpn/v2/udpn_base.dict.yaml\", DictType.UDPN_SCODE_TR, worddict, worddict)\n",
    "# LoadDict(\"./dicts/quanpin/dicts/quanpin/quanpin_words.dict.yaml\", DictType.QUANPIN_TR, worddict, worddict)\n",
    "# LoadDict(\"./dicts/scraper_intermediates/raw/lol.yaml\", DictType.WORDS_ONLY_SM, worddict, worddict)\n",
    "\n",
    "# PrintDict(worddict, outfilename)"
   ]
  },
  {
   "cell_type": "code",
   "execution_count": 78,
   "metadata": {},
   "outputs": [
    {
     "name": "stderr",
     "output_type": "stream",
     "text": [
      "3712093it [00:28, 129826.55it/s]\n"
     ]
    }
   ],
   "source": [
    "new_words = WordDict()\n",
    "\n",
    "# LoadDict(\"./dicts/udpn/intermediates/comment_fault_save/test_xche_slash_z3.dict.yaml\", DictType.UDPN_SCODE_TR, worddict, worddict)\n",
    "\n",
    "# LoadDict(\"./dicts/udpn/intermediates/edited_xche_cipn.txt\", DictType.WORDS_WEIGHT_SM, new_words, worddict)\n",
    "# LoadDict(\"./dicts/udpn/intermediates/words_wubi.txt\", DictType.WORDS_ONLY_SM, new_words, worddict)\n",
    "# LoadDict(\"./dicts/udpn/intermediates/important/xche_non_bigram.dict.yaml\", DictType.UDPN_SCODE_TR, worddict, worddict)\n",
    "# LoadDict(\"./dicts/udpn/intermediates/important/wubi_4-.dict.yaml\", DictType.UDPN_SCODE_TR, worddict, worddict)\n",
    "# LoadDict(\"./dicts/udpn/intermediates/hand_edited_words/obnz_edited.dict.yaml\", DictType.WORDS_ONLY_SM, worddict, worddict)\n",
    "# LoadDict(\"./dicts/scraper_intermediates/raw/genshin.yaml\", DictType.WORDS_ONLY_SM, new_words, worddict)\n",
    "# LoadDict(\"C:/Users/Takusei/Desktop/输入法/dict_export/1001/ounei_hand_export.txt\", DictType.UDPN_SCODE_TR, new_words, worddict, apply_filters=True)\n",
    "LoadDict(\"./dicts/udpn/udpn_superime.dict.yaml\", DictType.UDPN_SCODE_TR, new_words, worddict, apply_filters=True)"
   ]
  },
  {
   "cell_type": "code",
   "execution_count": 79,
   "metadata": {},
   "outputs": [
    {
     "name": "stdout",
     "output_type": "stream",
     "text": [
      "793\n"
     ]
    }
   ],
   "source": [
    "print(len(new_words))\n",
    "PrintDict(new_words, outfilename)"
   ]
  },
  {
   "cell_type": "code",
   "execution_count": 76,
   "metadata": {},
   "outputs": [
    {
     "name": "stdout",
     "output_type": "stream",
     "text": [
      "{\n",
      "  \"tok/fine\": [\n",
      "    \"鍾祥縣\"\n",
      "  ],\n",
      "  \"tok/coarse\": [\n",
      "    \"鍾祥縣\"\n",
      "  ],\n",
      "  \"pos/ctb\": [\n",
      "    \"NR\"\n",
      "  ],\n",
      "  \"pos/pku\": [\n",
      "    \"ns\"\n",
      "  ],\n",
      "  \"pos/863\": [\n",
      "    \"ns\"\n",
      "  ],\n",
      "  \"ner/msra\": [\n",
      "    [\"鍾祥縣\", \"LOCATION\", 0, 1]\n",
      "  ],\n",
      "  \"ner/pku\": [\n",
      "    [\"鍾祥縣\", \"nr\", 0, 1]\n",
      "  ],\n",
      "  \"ner/ontonotes\": [\n",
      "    [\"鍾祥縣\", \"GPE\", 0, 1]\n",
      "  ],\n",
      "  \"srl\": [],\n",
      "  \"dep\": [\n",
      "    [0, \"root\"]\n",
      "  ],\n",
      "  \"sdp\": [\n",
      "    [[0, \"Root\"]]\n",
      "  ],\n",
      "  \"con\": [\n",
      "    \"TOP\",\n",
      "    [[\"NP\", [[\"NR\", [\"鍾祥縣\"]]]]]\n",
      "  ]\n",
      "}\n"
     ]
    }
   ],
   "source": [
    "print(HanLP_MTL('鍾祥縣'))\n",
    "# HanLP('阳性率').pretty_print()\n",
    "# HanLP('一村一').pretty_print()\n",
    "# HanLP('牙通牙').pretty_print()"
   ]
  },
  {
   "cell_type": "code",
   "execution_count": 18,
   "metadata": {},
   "outputs": [
    {
     "name": "stdout",
     "output_type": "stream",
     "text": [
      "229413\n"
     ]
    }
   ],
   "source": [
    "print(len(worddict))\n",
    "# 楊秀珠 陽性率"
   ]
  },
  {
   "cell_type": "markdown",
   "metadata": {},
   "source": [
    "## 通过 `fix_freq_char.txt` 造词典"
   ]
  },
  {
   "cell_type": "code",
   "execution_count": null,
   "metadata": {},
   "outputs": [],
   "source": [
    "\n",
    "with open(\"./fix_freq_char.txt\", \"r\", encoding=\"UTF-8\") as infile:\n",
    "    lines = infile.readlines()\n",
    "    for line in lines:\n",
    "        if not '\\t' in line:\n",
    "            continue\n",
    "\n",
    "        if '#' in line:\n",
    "            line = line.split('#')[0].strip()\n",
    "            if len(line) == 0:\n",
    "                continue\n",
    "\n",
    "        word = cc.convert(line.split()[0])\n",
    "        pron = line.split()[1] # assert len = 2\n",
    "        weight = int(line.split()[2])\n",
    "        # if(chardict.GetPrimaryPron(word) != pron):\n",
    "        #     print(f\"ERROR: {word} has pron {chardict.GetPrimaryPron(word)} and {pron}\")\n",
    "        # print(f\"{word}: {chardict.GetPrimaryPron(word)} - {pron},  [{chardict.GetScode(word)}\")\n",
    "        # print(f'{{text = \"{word}\", pron = \"{pron}[{chardict.GetScode(word)}\", weight = {weight}}},')\n",
    "        print(f'[\"{pron}\"] = {{text = \"{word}\", weight = {weight}}},')\n",
    "        "
   ]
  },
  {
   "cell_type": "code",
   "execution_count": null,
   "metadata": {},
   "outputs": [],
   "source": []
  },
  {
   "cell_type": "code",
   "execution_count": 51,
   "metadata": {},
   "outputs": [],
   "source": []
  },
  {
   "cell_type": "markdown",
   "metadata": {},
   "source": [
    "## Fixed characters"
   ]
  },
  {
   "cell_type": "code",
   "execution_count": null,
   "metadata": {},
   "outputs": [],
   "source": [
    "pron_top3 = {}\n",
    "for char, charinfos in chardict.items():\n",
    "    for charinfo in charinfos:\n",
    "        pron = charinfo.pron\n",
    "        if pron not in pron_top3:\n",
    "            pron_top3[pron] = []\n",
    "        if len(pron_top3[pron]) < 3:\n",
    "            pron_top3[pron].append((char, charinfo.weight))\n",
    "            pron_top3[pron] = sorted(pron_top3[pron], key=lambda x: x[1], reverse = True)\n",
    "        else:\n",
    "            if charinfo.weight > pron_top3[pron][-1][1]:\n",
    "                pron_top3[pron][-1] = (char, charinfo.weight)\n",
    "                pron_top3[pron] = sorted(pron_top3[pron], key=lambda x: x[1], reverse = True)\n",
    "\n",
    "list_pron_top3 = sorted(list(pron_top3.items()), key=lambda x: x[0])\n",
    "for pron, top3 in list_pron_top3:\n",
    "    words = ' '.join(x[0] for x in top3)\n",
    "    weights = ' '.join(str(x[1]) for x in top3)\n",
    "    print('\\t'.join([pron, words, weights]))\n",
    "\n",
    "# for pron, top3 in list_pron_top3:\n",
    "#     quanpin = udpn2qp(pron)\n",
    "#     print(pron + '\\t' + quanpin)"
   ]
  },
  {
   "cell_type": "markdown",
   "metadata": {},
   "source": [
    "## 垃坤"
   ]
  },
  {
   "cell_type": "code",
   "execution_count": null,
   "metadata": {},
   "outputs": [],
   "source": [
    "print(lazy_pinyin(\"了斷\"))"
   ]
  },
  {
   "cell_type": "markdown",
   "metadata": {},
   "source": [
    "### 这是干啥的"
   ]
  },
  {
   "cell_type": "code",
   "execution_count": null,
   "metadata": {},
   "outputs": [],
   "source": [
    "def match_func(match):\n",
    "    return udpn2qp(match.group())\n",
    "diff_chars = set()\n",
    "with open(\"./dicts/udpn/udpn_weight.dict.yaml\", \"r\", encoding=\"UTF-8\") as infile:\n",
    "    lines = infile.readlines()\n",
    "    for line in lines:\n",
    "        line = re.sub(r\"\\b[a-z;][a-z;]\\[\", match_func, line)\n",
    "        print(line, end = '')"
   ]
  },
  {
   "cell_type": "markdown",
   "metadata": {},
   "source": [
    "### 逐字转换的词，有没有转换？估计没有"
   ]
  },
  {
   "cell_type": "code",
   "execution_count": null,
   "metadata": {},
   "outputs": [],
   "source": [
    "\n",
    "with open(\"./dicts/udpn/intermediates/manual_check.yaml\", \"r\", encoding=\"UTF-8\") as infile:\n",
    "    lines = infile.readlines()\n",
    "    for line in lines:\n",
    "        word = line.split()[0]\n",
    "        convert = cc.convert(word)\n",
    "        char_by_char = ''.join([cc.convert(x) for x in word])\n",
    "        print(f\"{word}, {convert}, {char_by_char}\")"
   ]
  },
  {
   "cell_type": "markdown",
   "metadata": {},
   "source": [
    "### 小鹤/自动生成的不同读音"
   ]
  },
  {
   "cell_type": "code",
   "execution_count": null,
   "metadata": {},
   "outputs": [],
   "source": [
    "diff_chars = set()\n",
    "with open(\"./dicts/udpn/intermediates/xche_bigrams_diff.txt\", \"r\", encoding=\"UTF-8\") as infile:\n",
    "    lines = infile.readlines()\n",
    "    for line in lines:\n",
    "        line = line.strip()\n",
    "        components = line.split('\\t')\n",
    "        word, xche, auto = components[0], components[1], components[2]\n",
    "        entries = [(word[0], xche[0:2], auto[0:2]), (word[1], xche[3:], auto[3:])]\n",
    "        for entry in entries:\n",
    "            if entry[1] != entry[2]:\n",
    "                diff_chars.add(entry)\n",
    "    \n",
    "    output = sorted(list(diff_chars), key = lambda x: x[0])\n",
    "    for entry in output:\n",
    "        print('\\t'.join([x for x in entry]))"
   ]
  }
 ],
 "metadata": {
  "kernelspec": {
   "display_name": "Python 3",
   "language": "python",
   "name": "python3"
  },
  "language_info": {
   "codemirror_mode": {
    "name": "ipython",
    "version": 3
   },
   "file_extension": ".py",
   "mimetype": "text/x-python",
   "name": "python",
   "nbconvert_exporter": "python",
   "pygments_lexer": "ipython3",
   "version": "3.11.10"
  },
  "orig_nbformat": 4
 },
 "nbformat": 4,
 "nbformat_minor": 2
}
